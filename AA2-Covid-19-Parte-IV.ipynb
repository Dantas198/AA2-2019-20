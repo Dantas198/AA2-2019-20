{
 "cells": [
  {
   "cell_type": "markdown",
   "execution_count": null,
   "metadata": {},
   "source": [
    "# Covid-19 Forecasting - LSTM"
   ]
  },
  {
   "cell_type": "markdown",
   "execution_count": null,
   "metadata": {},
   "source": [
    "Neste último notebook vamos tentar utilizar os países semelhantes a Portugal para prever os novos casos confirmados por milhão, assim como os novos óbitos por milhão, também iremos prever a tendência de 1 semana para os confirmados e de 2 semanas para os obitos, abordando o problema numa perspetiva de multitasking, tentando prever diferentes séries temporais. Neste caso vamos utilizar uma LSTM para tentar obter os resultados pretendidos."
   ]
  },
  {
   "cell_type": "code",
   "execution_count": 1,
   "metadata": {},
   "outputs": [],
   "source": [
    "import pandas as pd\n",
    "import numpy as np\n",
    "import math\n",
    "import tensorflow as tf"
   ]
  },
  {
   "cell_type": "code",
   "execution_count": 2,
   "metadata": {},
   "outputs": [],
   "source": [
    "kaggle_data_path = \"../input/aa2-covid-19-parte-iii\"\n",
    "\n",
    "dataset = pd.read_csv( kaggle_data_path + \"/portugal_group_dataset.csv\")\n",
    "dataset = dataset.drop(['Unnamed: 0'], axis = 1)"
   ]
  },
  {
   "cell_type": "markdown",
   "execution_count": null,
   "metadata": {},
   "source": [
    "## Time Shifting"
   ]
  },
  {
   "cell_type": "markdown",
   "execution_count": null,
   "metadata": {},
   "source": [
    "Agora como vamos usar redes LSTM podemos definir que para prever os nossos targets utilizemos mais dias do que o dia anterior."
   ]
  },
  {
   "cell_type": "code",
   "execution_count": 3,
   "metadata": {},
   "outputs": [],
   "source": [
    "#Coloca o dataset colocado no argumento no formato indicado para alimentar a LSTM com os valores de dias anteriores.\n",
    "def time_shift(dataset, step):\n",
    "\n",
    "    x = []\n",
    "    y = []\n",
    "\n",
    "    for day in range(len(dataset)):\n",
    "\n",
    "        if((day + step + 1) > len(dataset)):\n",
    "            break\n",
    "\n",
    "        x.append(dataset[day: (day + step)])\n",
    "        y.append(dataset[day + step][0:4])\n",
    "\n",
    "    return np.asarray(x),np.asarray(y).reshape(len(y),-1)"
   ]
  },
  {
   "cell_type": "code",
   "execution_count": 4,
   "metadata": {},
   "outputs": [],
   "source": [
    "# Cálculo de tendências\n",
    "def trend_calc(data, step, column):\n",
    "    trend_column = column + \"_trend_\" + str(step+1)\n",
    "    data[trend_column] = (data[column].shift(0, fill_value=0) - data[column].shift(step, fill_value=0))/data[column].shift(step, fill_value=0)\n",
    "    return data"
   ]
  },
  {
   "cell_type": "markdown",
   "execution_count": null,
   "metadata": {},
   "source": [
    "Agora teremos de efetuar tratamento de dados em todos os países e separando-os para que possamos ter vários inputs. Este tratamento inclui o cálculo das tendências a prever, normalização e os time shifts."
   ]
  },
  {
   "cell_type": "code",
   "execution_count": 5,
   "metadata": {},
   "outputs": [],
   "source": [
    "countries = dataset['location'].unique()\n",
    "X = {}\n",
    "Y = {}\n",
    "\n",
    "for country in countries:\n",
    "    data = dataset[dataset['location'] == country].drop(['location'], axis=1).reset_index(drop=True)\n",
    "    data = trend_calc(data, 13, 'new_deaths_per_million')\n",
    "    data = trend_calc(data, 6, 'new_cases_per_million')\n",
    "    data.replace([np.inf, np.nan], 0, inplace=True)\n",
    "\n",
    "    mean = data.mean(axis=0)\n",
    "    std = data.std(axis=0)\n",
    "\n",
    "    aux = data - mean\n",
    "    data_normalized = aux / std\n",
    "    \n",
    "    x,y=time_shift(data_normalized.to_numpy(), 7)\n",
    "    \n",
    "    # X atributos de cada país\n",
    "    # Y targets de cada país\n",
    "    X[country] = x\n",
    "    Y[country] = y"
   ]
  },
  {
   "cell_type": "markdown",
   "execution_count": null,
   "metadata": {},
   "source": [
    "## Splitting the data , 10% test, 10% validation"
   ]
  },
  {
   "cell_type": "markdown",
   "execution_count": null,
   "metadata": {},
   "source": [
    "Embora para os métodos tradicionais tenhamos usado TimeSeriesSplit para este tipo de métodos não vamos conseguir utilizar, muito por falta de tempo para realizar uma otimização do modelo através de cross-validation, por isso vamos apenas partir em percetagens fixas do dataset, apenas para termos uma ideia geral da performance do modelo e da quantidade de overfit."
   ]
  },
  {
   "cell_type": "code",
   "execution_count": 6,
   "metadata": {},
   "outputs": [],
   "source": [
    "def split_for_model(data, count):\n",
    "    x1 = data[:count] \n",
    "    x2 = data[count:]\n",
    "    \n",
    "    return x1, x2"
   ]
  },
  {
   "cell_type": "code",
   "execution_count": 7,
   "metadata": {},
   "outputs": [
    {
     "name": "stdout",
     "output_type": "stream",
     "text": [
      "Train set have a shape of (74, 7, 4)\n",
      "Train label have a shape of (74, 4)\n",
      "Dataset shape\n",
      "\n",
      "Val set have a shape of (9, 7, 4)\n",
      "Val label have a shape of (9, 4)\n",
      "\n",
      "\n",
      "Test set have a shape of (10, 7, 4)\n",
      "Test label have a shape of (10, 4)\n"
     ]
    }
   ],
   "source": [
    "from sklearn.model_selection import train_test_split\n",
    "\n",
    "# Função que parte o dataset em treino, teste e validação, com as percetagens pretendidas e agrega \n",
    "# todos os datasets nas estruturas correspondestes\n",
    "\n",
    "def split_data(X,Y,country):\n",
    "    \n",
    "    X_val = {}\n",
    "    Y_val = {}\n",
    "    X_test = {}\n",
    "    Y_test = {}\n",
    "    \n",
    "    for key in X.keys():\n",
    "    \n",
    "        train_count = math.floor(X[key].shape[0] * 0.8)\n",
    "        val_count =  math.floor((X[key].shape[0] - train_count) / 2)\n",
    "        \n",
    "        x_train, x_remainder = split_for_model(X[key], train_count)\n",
    "        y_train, y_remainder = split_for_model(Y[key], train_count)\n",
    "\n",
    "        x_val, x_test = split_for_model(x_remainder, val_count)\n",
    "        y_val, y_test = split_for_model(y_remainder, val_count)\n",
    "\n",
    "        X[key] = x_train\n",
    "        Y[key] = y_train\n",
    "        X_val[key] = x_val\n",
    "        X_test[key] = x_test\n",
    "        Y_val[key] = y_val\n",
    "        Y_test[key] = y_test\n",
    "         \n",
    "        if(key == country):\n",
    "            print(\"Train set have a shape of \" + str(x_train.shape))\n",
    "            print(\"Train label have a shape of \" + str(y_train.shape))\n",
    "            print(\"Dataset shape\\n\")\n",
    "            print(\"Val set have a shape of \" + str(x_val.shape))\n",
    "            print(\"Val label have a shape of \" + str(y_val.shape))\n",
    "            print(\"\\n\")\n",
    "            print(\"Test set have a shape of \" + str(x_test.shape))\n",
    "            print(\"Test label have a shape of \" + str(y_test.shape))\n",
    "        \n",
    "    return X_val,X_test,Y_val,Y_test,X,Y\n",
    "\n",
    "X_val,X_test,Y_val,Y_test,X,Y = split_data(X,Y,\"Portugal\")"
   ]
  },
  {
   "cell_type": "code",
   "execution_count": 8,
   "metadata": {},
   "outputs": [
    {
     "name": "stderr",
     "output_type": "stream",
     "text": [
      "Using TensorFlow backend.\n"
     ]
    }
   ],
   "source": [
    "from keras.models import Input,Model, Sequential\n",
    "from keras.layers import LSTM,Dense,BatchNormalization,concatenate, Dropout\n",
    "from keras.metrics import RootMeanSquaredError"
   ]
  },
  {
   "cell_type": "code",
   "execution_count": 9,
   "metadata": {},
   "outputs": [],
   "source": [
    "# function to plot rmse train and validation values\n",
    "import matplotlib.pyplot as plt\n",
    "def show_history(history):\n",
    "    print(history.history.keys())\n",
    "    plt.plot(history.history['root_mean_squared_error'])\n",
    "    plt.plot(history.history['val_root_mean_squared_error'])\n",
    "    plt.title('model RMSE')\n",
    "    plt.ylabel('RMSE')\n",
    "    plt.xlabel('epoch')\n",
    "    plt.legend(['train', 'val'], loc='upper left')\n",
    "    plt.show()"
   ]
  },
  {
   "cell_type": "markdown",
   "execution_count": null,
   "metadata": {},
   "source": [
    "## Utilizar os vários inputs para formar várias redes"
   ]
  },
  {
   "cell_type": "markdown",
   "execution_count": null,
   "metadata": {},
   "source": [
    "Vamos primeiro tentar utilizar os vários países como diferentes inputs para redes distintas e depois concatenar essas redes.\n",
    "\n",
    "De seguida vamos construir um modelo através da API funcional do Keras. Iremos criar vários inputs, tendo cada um deles um dataset diferente e que corresponde a cada país. A cada input será associado um modelo de LSTM com recurrent dropout e dropout normal. Depois cada modelo será concatenato e fornecerão entradas a uma rede Dense com ativação relu de seguida uma camada de dropout. Por fim, temos uma camada Dense para o output, tendo ela quatro nodos (4 targets), esta camada não terá ativação, como é habitual para problemas de regressão."
   ]
  },
  {
   "cell_type": "code",
   "execution_count": 10,
   "metadata": {},
   "outputs": [
    {
     "name": "stdout",
     "output_type": "stream",
     "text": [
      "Model: \"model\"\n",
      "__________________________________________________________________________________________________\n",
      "Layer (type)                    Output Shape         Param #     Connected to                     \n",
      "==================================================================================================\n",
      "input_1 (InputLayer)            [(None, 7, 4)]       0                                            \n",
      "__________________________________________________________________________________________________\n",
      "input_2 (InputLayer)            [(None, 7, 4)]       0                                            \n",
      "__________________________________________________________________________________________________\n",
      "input_3 (InputLayer)            [(None, 7, 4)]       0                                            \n",
      "__________________________________________________________________________________________________\n",
      "input_4 (InputLayer)            [(None, 7, 4)]       0                                            \n",
      "__________________________________________________________________________________________________\n",
      "input_5 (InputLayer)            [(None, 7, 4)]       0                                            \n",
      "__________________________________________________________________________________________________\n",
      "input_6 (InputLayer)            [(None, 7, 4)]       0                                            \n",
      "__________________________________________________________________________________________________\n",
      "input_7 (InputLayer)            [(None, 7, 4)]       0                                            \n",
      "__________________________________________________________________________________________________\n",
      "input_8 (InputLayer)            [(None, 7, 4)]       0                                            \n",
      "__________________________________________________________________________________________________\n",
      "input_9 (InputLayer)            [(None, 7, 4)]       0                                            \n",
      "__________________________________________________________________________________________________\n",
      "input_10 (InputLayer)           [(None, 7, 4)]       0                                            \n",
      "__________________________________________________________________________________________________\n",
      "input_11 (InputLayer)           [(None, 7, 4)]       0                                            \n",
      "__________________________________________________________________________________________________\n",
      "input_12 (InputLayer)           [(None, 7, 4)]       0                                            \n",
      "__________________________________________________________________________________________________\n",
      "input_13 (InputLayer)           [(None, 7, 4)]       0                                            \n",
      "__________________________________________________________________________________________________\n",
      "input_14 (InputLayer)           [(None, 7, 4)]       0                                            \n",
      "__________________________________________________________________________________________________\n",
      "input_15 (InputLayer)           [(None, 7, 4)]       0                                            \n",
      "__________________________________________________________________________________________________\n",
      "input_16 (InputLayer)           [(None, 7, 4)]       0                                            \n",
      "__________________________________________________________________________________________________\n",
      "input_17 (InputLayer)           [(None, 7, 4)]       0                                            \n",
      "__________________________________________________________________________________________________\n",
      "input_18 (InputLayer)           [(None, 7, 4)]       0                                            \n",
      "__________________________________________________________________________________________________\n",
      "lstm (LSTM)                     (None, 64)           17664       input_1[0][0]                    \n",
      "__________________________________________________________________________________________________\n",
      "lstm_1 (LSTM)                   (None, 64)           17664       input_2[0][0]                    \n",
      "__________________________________________________________________________________________________\n",
      "lstm_2 (LSTM)                   (None, 64)           17664       input_3[0][0]                    \n",
      "__________________________________________________________________________________________________\n",
      "lstm_3 (LSTM)                   (None, 64)           17664       input_4[0][0]                    \n",
      "__________________________________________________________________________________________________\n",
      "lstm_4 (LSTM)                   (None, 64)           17664       input_5[0][0]                    \n",
      "__________________________________________________________________________________________________\n",
      "lstm_5 (LSTM)                   (None, 64)           17664       input_6[0][0]                    \n",
      "__________________________________________________________________________________________________\n",
      "lstm_6 (LSTM)                   (None, 64)           17664       input_7[0][0]                    \n",
      "__________________________________________________________________________________________________\n",
      "lstm_7 (LSTM)                   (None, 64)           17664       input_8[0][0]                    \n",
      "__________________________________________________________________________________________________\n",
      "lstm_8 (LSTM)                   (None, 64)           17664       input_9[0][0]                    \n",
      "__________________________________________________________________________________________________\n",
      "lstm_9 (LSTM)                   (None, 64)           17664       input_10[0][0]                   \n",
      "__________________________________________________________________________________________________\n",
      "lstm_10 (LSTM)                  (None, 64)           17664       input_11[0][0]                   \n",
      "__________________________________________________________________________________________________\n",
      "lstm_11 (LSTM)                  (None, 64)           17664       input_12[0][0]                   \n",
      "__________________________________________________________________________________________________\n",
      "lstm_12 (LSTM)                  (None, 64)           17664       input_13[0][0]                   \n",
      "__________________________________________________________________________________________________\n",
      "lstm_13 (LSTM)                  (None, 64)           17664       input_14[0][0]                   \n",
      "__________________________________________________________________________________________________\n",
      "lstm_14 (LSTM)                  (None, 64)           17664       input_15[0][0]                   \n",
      "__________________________________________________________________________________________________\n",
      "lstm_15 (LSTM)                  (None, 64)           17664       input_16[0][0]                   \n",
      "__________________________________________________________________________________________________\n",
      "lstm_16 (LSTM)                  (None, 64)           17664       input_17[0][0]                   \n",
      "__________________________________________________________________________________________________\n",
      "lstm_17 (LSTM)                  (None, 64)           17664       input_18[0][0]                   \n",
      "__________________________________________________________________________________________________\n",
      "concatenate (Concatenate)       (None, 1152)         0           lstm[0][0]                       \n",
      "                                                                 lstm_1[0][0]                     \n",
      "                                                                 lstm_2[0][0]                     \n",
      "                                                                 lstm_3[0][0]                     \n",
      "                                                                 lstm_4[0][0]                     \n",
      "                                                                 lstm_5[0][0]                     \n",
      "                                                                 lstm_6[0][0]                     \n",
      "                                                                 lstm_7[0][0]                     \n",
      "                                                                 lstm_8[0][0]                     \n",
      "                                                                 lstm_9[0][0]                     \n",
      "                                                                 lstm_10[0][0]                    \n",
      "                                                                 lstm_11[0][0]                    \n",
      "                                                                 lstm_12[0][0]                    \n",
      "                                                                 lstm_13[0][0]                    \n",
      "                                                                 lstm_14[0][0]                    \n",
      "                                                                 lstm_15[0][0]                    \n",
      "                                                                 lstm_16[0][0]                    \n",
      "                                                                 lstm_17[0][0]                    \n",
      "__________________________________________________________________________________________________\n",
      "dense (Dense)                   (None, 32)           36896       concatenate[0][0]                \n",
      "__________________________________________________________________________________________________\n",
      "dropout (Dropout)               (None, 32)           0           dense[0][0]                      \n",
      "__________________________________________________________________________________________________\n",
      "dense_1 (Dense)                 (None, 4)            132         dropout[0][0]                    \n",
      "==================================================================================================\n",
      "Total params: 354,980\n",
      "Trainable params: 354,980\n",
      "Non-trainable params: 0\n",
      "__________________________________________________________________________________________________\n"
     ]
    }
   ],
   "source": [
    "def build_model(X,Y,country_to_predict):\n",
    "    \n",
    "    model_inputs = []\n",
    "    models_lstms = []\n",
    "    \n",
    "    for key in X.keys():\n",
    "      \n",
    "        x = X[key]\n",
    "            \n",
    "        input_ = Input(shape=(x.shape[1],x.shape[2]))\n",
    "        model_inputs.append(input_)\n",
    "        \n",
    "        model = LSTM(units = 64, dropout=0.3, recurrent_dropout=0.3)(input_)\n",
    "        models_lstms.append(model)\n",
    "        \n",
    "    concaten = concatenate(models_lstms,axis = -1)\n",
    "    \n",
    "    dens = Dense(32,activation=\"relu\")(concaten)\n",
    "    drop = Dropout(0.3)(dens)\n",
    "    answer = Dense(4)(drop)\n",
    "    \n",
    "    model = Model(model_inputs, answer)\n",
    "    \n",
    "    return model\n",
    "\n",
    "model = build_model(X,Y,\"Portugal\")\n",
    "model.summary()"
   ]
  },
  {
   "cell_type": "code",
   "execution_count": 11,
   "metadata": {},
   "outputs": [],
   "source": [
    "model.compile(optimizer = \"rmsprop\", loss = \"mse\", metrics = [RootMeanSquaredError()])"
   ]
  },
  {
   "cell_type": "markdown",
   "execution_count": null,
   "metadata": {},
   "source": [
    "Colocar os países como listas para treinar o modelo."
   ]
  },
  {
   "cell_type": "code",
   "execution_count": 12,
   "metadata": {},
   "outputs": [
    {
     "name": "stdout",
     "output_type": "stream",
     "text": [
      "18 (74, 7, 4) (74, 4)\n"
     ]
    }
   ],
   "source": [
    "X_test_list = list(X_test.values())\n",
    "Y_test_list = list(Y_test.values())\n",
    "X_val_list = list(X_val.values())\n",
    "Y_val_list = list(Y_val.values())\n",
    "X_train_list = list(X.values())\n",
    "Y_train_list = list(Y.values())\n",
    "\n",
    "print(len(X_train_list),X_train_list[0].shape,Y[\"Portugal\"].shape)"
   ]
  },
  {
   "cell_type": "markdown",
   "execution_count": null,
   "metadata": {},
   "source": [
    "Para o treino do modelo temos de fornecer todos os dados relativos aos conjuntos de treino de todos os países. Na verdade no fim conseguiremos prever não só as séries temporais de Portugal como dos outros países que se encontram no grupo."
   ]
  },
  {
   "cell_type": "code",
   "execution_count": 13,
   "metadata": {},
   "outputs": [
    {
     "name": "stdout",
     "output_type": "stream",
     "text": [
      "Epoch 1/75\n",
      "3/3 - 5s - loss: 1.0304 - root_mean_squared_error: 1.0151 - val_loss: 0.8066 - val_root_mean_squared_error: 0.8981\n",
      "Epoch 2/75\n",
      "3/3 - 1s - loss: 0.7777 - root_mean_squared_error: 0.8819 - val_loss: 0.7459 - val_root_mean_squared_error: 0.8637\n",
      "Epoch 3/75\n",
      "3/3 - 1s - loss: 0.7397 - root_mean_squared_error: 0.8601 - val_loss: 0.7579 - val_root_mean_squared_error: 0.8705\n",
      "Epoch 4/75\n",
      "3/3 - 1s - loss: 0.6301 - root_mean_squared_error: 0.7938 - val_loss: 0.7357 - val_root_mean_squared_error: 0.8577\n",
      "Epoch 5/75\n",
      "3/3 - 1s - loss: 0.6007 - root_mean_squared_error: 0.7751 - val_loss: 0.7521 - val_root_mean_squared_error: 0.8672\n",
      "Epoch 6/75\n",
      "3/3 - 1s - loss: 0.5642 - root_mean_squared_error: 0.7511 - val_loss: 0.7767 - val_root_mean_squared_error: 0.8813\n",
      "Epoch 7/75\n",
      "3/3 - 1s - loss: 0.6562 - root_mean_squared_error: 0.8101 - val_loss: 0.7798 - val_root_mean_squared_error: 0.8830\n",
      "Epoch 8/75\n",
      "3/3 - 1s - loss: 0.5981 - root_mean_squared_error: 0.7734 - val_loss: 0.8118 - val_root_mean_squared_error: 0.9010\n",
      "Epoch 9/75\n",
      "3/3 - 1s - loss: 0.5844 - root_mean_squared_error: 0.7645 - val_loss: 0.8867 - val_root_mean_squared_error: 0.9417\n",
      "Epoch 10/75\n",
      "3/3 - 1s - loss: 0.5362 - root_mean_squared_error: 0.7323 - val_loss: 0.8469 - val_root_mean_squared_error: 0.9203\n",
      "Epoch 11/75\n",
      "3/3 - 1s - loss: 0.5366 - root_mean_squared_error: 0.7325 - val_loss: 0.8275 - val_root_mean_squared_error: 0.9097\n",
      "Epoch 12/75\n",
      "3/3 - 1s - loss: 0.5275 - root_mean_squared_error: 0.7263 - val_loss: 0.7901 - val_root_mean_squared_error: 0.8889\n",
      "Epoch 13/75\n",
      "3/3 - 1s - loss: 0.5930 - root_mean_squared_error: 0.7700 - val_loss: 0.8220 - val_root_mean_squared_error: 0.9066\n",
      "Epoch 14/75\n",
      "3/3 - 1s - loss: 0.5463 - root_mean_squared_error: 0.7391 - val_loss: 0.7989 - val_root_mean_squared_error: 0.8938\n",
      "Epoch 15/75\n",
      "3/3 - 1s - loss: 0.5665 - root_mean_squared_error: 0.7527 - val_loss: 0.7495 - val_root_mean_squared_error: 0.8657\n",
      "Epoch 16/75\n",
      "3/3 - 1s - loss: 0.5103 - root_mean_squared_error: 0.7144 - val_loss: 0.8288 - val_root_mean_squared_error: 0.9104\n",
      "Epoch 17/75\n",
      "3/3 - 1s - loss: 0.6110 - root_mean_squared_error: 0.7817 - val_loss: 0.8166 - val_root_mean_squared_error: 0.9036\n",
      "Epoch 18/75\n",
      "3/3 - 1s - loss: 0.4565 - root_mean_squared_error: 0.6757 - val_loss: 0.7673 - val_root_mean_squared_error: 0.8759\n",
      "Epoch 19/75\n",
      "3/3 - 1s - loss: 0.5214 - root_mean_squared_error: 0.7221 - val_loss: 0.7732 - val_root_mean_squared_error: 0.8793\n",
      "Epoch 20/75\n",
      "3/3 - 1s - loss: 0.4530 - root_mean_squared_error: 0.6730 - val_loss: 0.7795 - val_root_mean_squared_error: 0.8829\n",
      "Epoch 21/75\n",
      "3/3 - 1s - loss: 0.4888 - root_mean_squared_error: 0.6991 - val_loss: 0.8033 - val_root_mean_squared_error: 0.8963\n",
      "Epoch 22/75\n",
      "3/3 - 1s - loss: 0.4889 - root_mean_squared_error: 0.6992 - val_loss: 0.7900 - val_root_mean_squared_error: 0.8888\n",
      "Epoch 23/75\n",
      "3/3 - 1s - loss: 0.5530 - root_mean_squared_error: 0.7436 - val_loss: 0.7917 - val_root_mean_squared_error: 0.8898\n",
      "Epoch 24/75\n",
      "3/3 - 1s - loss: 0.4598 - root_mean_squared_error: 0.6781 - val_loss: 0.7604 - val_root_mean_squared_error: 0.8720\n",
      "Epoch 25/75\n",
      "3/3 - 1s - loss: 0.5194 - root_mean_squared_error: 0.7207 - val_loss: 0.7536 - val_root_mean_squared_error: 0.8681\n",
      "Epoch 26/75\n",
      "3/3 - 2s - loss: 0.4859 - root_mean_squared_error: 0.6971 - val_loss: 0.7275 - val_root_mean_squared_error: 0.8529\n",
      "Epoch 27/75\n",
      "3/3 - 1s - loss: 0.5900 - root_mean_squared_error: 0.7681 - val_loss: 0.7570 - val_root_mean_squared_error: 0.8700\n",
      "Epoch 28/75\n",
      "3/3 - 1s - loss: 0.4547 - root_mean_squared_error: 0.6743 - val_loss: 0.7604 - val_root_mean_squared_error: 0.8720\n",
      "Epoch 29/75\n",
      "3/3 - 1s - loss: 0.4659 - root_mean_squared_error: 0.6826 - val_loss: 0.7752 - val_root_mean_squared_error: 0.8804\n",
      "Epoch 30/75\n",
      "3/3 - 1s - loss: 0.5302 - root_mean_squared_error: 0.7281 - val_loss: 0.7635 - val_root_mean_squared_error: 0.8738\n",
      "Epoch 31/75\n",
      "3/3 - 1s - loss: 0.4881 - root_mean_squared_error: 0.6987 - val_loss: 0.7617 - val_root_mean_squared_error: 0.8728\n",
      "Epoch 32/75\n",
      "3/3 - 1s - loss: 0.5537 - root_mean_squared_error: 0.7441 - val_loss: 0.7644 - val_root_mean_squared_error: 0.8743\n",
      "Epoch 33/75\n",
      "3/3 - 1s - loss: 0.4884 - root_mean_squared_error: 0.6988 - val_loss: 0.7772 - val_root_mean_squared_error: 0.8816\n",
      "Epoch 34/75\n",
      "3/3 - 1s - loss: 0.5230 - root_mean_squared_error: 0.7232 - val_loss: 0.7318 - val_root_mean_squared_error: 0.8555\n",
      "Epoch 35/75\n",
      "3/3 - 1s - loss: 0.3760 - root_mean_squared_error: 0.6132 - val_loss: 0.7352 - val_root_mean_squared_error: 0.8575\n",
      "Epoch 36/75\n",
      "3/3 - 1s - loss: 0.4405 - root_mean_squared_error: 0.6637 - val_loss: 0.7495 - val_root_mean_squared_error: 0.8658\n",
      "Epoch 37/75\n",
      "3/3 - 1s - loss: 0.3637 - root_mean_squared_error: 0.6031 - val_loss: 0.7631 - val_root_mean_squared_error: 0.8736\n",
      "Epoch 38/75\n",
      "3/3 - 1s - loss: 0.3658 - root_mean_squared_error: 0.6048 - val_loss: 0.8243 - val_root_mean_squared_error: 0.9079\n",
      "Epoch 39/75\n",
      "3/3 - 2s - loss: 0.4514 - root_mean_squared_error: 0.6718 - val_loss: 0.7928 - val_root_mean_squared_error: 0.8904\n",
      "Epoch 40/75\n",
      "3/3 - 1s - loss: 0.4567 - root_mean_squared_error: 0.6758 - val_loss: 0.7569 - val_root_mean_squared_error: 0.8700\n",
      "Epoch 41/75\n",
      "3/3 - 1s - loss: 0.4401 - root_mean_squared_error: 0.6634 - val_loss: 0.8146 - val_root_mean_squared_error: 0.9025\n",
      "Epoch 42/75\n",
      "3/3 - 1s - loss: 0.4641 - root_mean_squared_error: 0.6812 - val_loss: 0.7771 - val_root_mean_squared_error: 0.8815\n",
      "Epoch 43/75\n",
      "3/3 - 1s - loss: 0.5210 - root_mean_squared_error: 0.7218 - val_loss: 0.8061 - val_root_mean_squared_error: 0.8978\n",
      "Epoch 44/75\n",
      "3/3 - 1s - loss: 0.4689 - root_mean_squared_error: 0.6848 - val_loss: 0.7987 - val_root_mean_squared_error: 0.8937\n",
      "Epoch 45/75\n",
      "3/3 - 1s - loss: 0.4152 - root_mean_squared_error: 0.6444 - val_loss: 0.7911 - val_root_mean_squared_error: 0.8894\n",
      "Epoch 46/75\n",
      "3/3 - 1s - loss: 0.3832 - root_mean_squared_error: 0.6191 - val_loss: 0.7754 - val_root_mean_squared_error: 0.8806\n",
      "Epoch 47/75\n",
      "3/3 - 1s - loss: 0.4131 - root_mean_squared_error: 0.6428 - val_loss: 0.7825 - val_root_mean_squared_error: 0.8846\n",
      "Epoch 48/75\n",
      "3/3 - 1s - loss: 0.4457 - root_mean_squared_error: 0.6676 - val_loss: 0.7828 - val_root_mean_squared_error: 0.8848\n",
      "Epoch 49/75\n",
      "3/3 - 1s - loss: 0.4543 - root_mean_squared_error: 0.6740 - val_loss: 0.7628 - val_root_mean_squared_error: 0.8734\n",
      "Epoch 50/75\n",
      "3/3 - 1s - loss: 0.4220 - root_mean_squared_error: 0.6496 - val_loss: 0.7928 - val_root_mean_squared_error: 0.8904\n",
      "Epoch 51/75\n",
      "3/3 - 2s - loss: 0.3207 - root_mean_squared_error: 0.5663 - val_loss: 0.8016 - val_root_mean_squared_error: 0.8953\n",
      "Epoch 52/75\n",
      "3/3 - 1s - loss: 0.4481 - root_mean_squared_error: 0.6694 - val_loss: 0.8429 - val_root_mean_squared_error: 0.9181\n",
      "Epoch 53/75\n",
      "3/3 - 1s - loss: 0.3761 - root_mean_squared_error: 0.6132 - val_loss: 0.7864 - val_root_mean_squared_error: 0.8868\n",
      "Epoch 54/75\n",
      "3/3 - 1s - loss: 0.4301 - root_mean_squared_error: 0.6558 - val_loss: 0.7619 - val_root_mean_squared_error: 0.8729\n",
      "Epoch 55/75\n",
      "3/3 - 1s - loss: 0.4024 - root_mean_squared_error: 0.6344 - val_loss: 0.7401 - val_root_mean_squared_error: 0.8603\n",
      "Epoch 56/75\n",
      "3/3 - 1s - loss: 0.3614 - root_mean_squared_error: 0.6011 - val_loss: 0.7754 - val_root_mean_squared_error: 0.8805\n",
      "Epoch 57/75\n",
      "3/3 - 2s - loss: 0.3551 - root_mean_squared_error: 0.5959 - val_loss: 0.7810 - val_root_mean_squared_error: 0.8837\n",
      "Epoch 58/75\n",
      "3/3 - 2s - loss: 0.4516 - root_mean_squared_error: 0.6720 - val_loss: 0.8081 - val_root_mean_squared_error: 0.8990\n",
      "Epoch 59/75\n",
      "3/3 - 1s - loss: 0.5329 - root_mean_squared_error: 0.7300 - val_loss: 0.7706 - val_root_mean_squared_error: 0.8778\n",
      "Epoch 60/75\n",
      "3/3 - 1s - loss: 0.3871 - root_mean_squared_error: 0.6222 - val_loss: 0.7770 - val_root_mean_squared_error: 0.8815\n",
      "Epoch 61/75\n",
      "3/3 - 1s - loss: 0.4248 - root_mean_squared_error: 0.6518 - val_loss: 0.7329 - val_root_mean_squared_error: 0.8561\n",
      "Epoch 62/75\n",
      "3/3 - 1s - loss: 0.2645 - root_mean_squared_error: 0.5143 - val_loss: 0.7712 - val_root_mean_squared_error: 0.8782\n",
      "Epoch 63/75\n",
      "3/3 - 2s - loss: 0.3809 - root_mean_squared_error: 0.6171 - val_loss: 0.7358 - val_root_mean_squared_error: 0.8578\n",
      "Epoch 64/75\n",
      "3/3 - 1s - loss: 0.4108 - root_mean_squared_error: 0.6409 - val_loss: 0.7464 - val_root_mean_squared_error: 0.8640\n",
      "Epoch 65/75\n",
      "3/3 - 1s - loss: 0.5065 - root_mean_squared_error: 0.7117 - val_loss: 0.7583 - val_root_mean_squared_error: 0.8708\n",
      "Epoch 66/75\n",
      "3/3 - 1s - loss: 0.3649 - root_mean_squared_error: 0.6041 - val_loss: 0.7646 - val_root_mean_squared_error: 0.8744\n",
      "Epoch 67/75\n",
      "3/3 - 1s - loss: 0.3349 - root_mean_squared_error: 0.5787 - val_loss: 0.7282 - val_root_mean_squared_error: 0.8533\n",
      "Epoch 68/75\n",
      "3/3 - 1s - loss: 0.2406 - root_mean_squared_error: 0.4905 - val_loss: 0.7551 - val_root_mean_squared_error: 0.8689\n",
      "Epoch 69/75\n",
      "3/3 - 1s - loss: 0.3382 - root_mean_squared_error: 0.5815 - val_loss: 0.7672 - val_root_mean_squared_error: 0.8759\n",
      "Epoch 70/75\n",
      "3/3 - 1s - loss: 0.4107 - root_mean_squared_error: 0.6409 - val_loss: 0.7697 - val_root_mean_squared_error: 0.8774\n",
      "Epoch 71/75\n",
      "3/3 - 1s - loss: 0.3474 - root_mean_squared_error: 0.5894 - val_loss: 0.7671 - val_root_mean_squared_error: 0.8758\n",
      "Epoch 72/75\n",
      "3/3 - 1s - loss: 0.3002 - root_mean_squared_error: 0.5479 - val_loss: 0.7795 - val_root_mean_squared_error: 0.8829\n",
      "Epoch 73/75\n",
      "3/3 - 1s - loss: 0.3662 - root_mean_squared_error: 0.6052 - val_loss: 0.7863 - val_root_mean_squared_error: 0.8867\n",
      "Epoch 74/75\n",
      "3/3 - 1s - loss: 0.3122 - root_mean_squared_error: 0.5587 - val_loss: 0.7502 - val_root_mean_squared_error: 0.8661\n",
      "Epoch 75/75\n",
      "3/3 - 2s - loss: 0.3185 - root_mean_squared_error: 0.5644 - val_loss: 0.7646 - val_root_mean_squared_error: 0.8744\n"
     ]
    }
   ],
   "source": [
    "history = model.fit(X_train_list,Y_train_list,epochs=75,validation_data=(X_val_list,Y_val_list),verbose=2)"
   ]
  },
  {
   "cell_type": "code",
   "execution_count": 14,
   "metadata": {},
   "outputs": [
    {
     "name": "stdout",
     "output_type": "stream",
     "text": [
      "dict_keys(['loss', 'root_mean_squared_error', 'val_loss', 'val_root_mean_squared_error'])\n"
     ]
    },
    {
     "data": {
      "image/png": "[encoded data removed]",
      "text/plain": [
       "<Figure size 432x288 with 1 Axes>"
      ]
     },
     "metadata": {
      "needs_background": "light"
     },
     "output_type": "display_data"
    }
   ],
   "source": [
    "show_history(history)"
   ]
  },
  {
   "cell_type": "markdown",
   "execution_count": null,
   "metadata": {},
   "source": [
    "Pelo gráfico anterior conseguimos ver que existe overfiting, o que era de esperar, visto que continuamos a ter muito poucos dados, mesmo usando dropout. O erro na validação está sempre maior do que o do de treino daí o overfit."
   ]
  },
  {
   "cell_type": "markdown",
   "execution_count": null,
   "metadata": {},
   "source": [
    "Vejamos então como se comporta o modelo, quando fornecidas as séries temporais de todos os países do conjunto de teste."
   ]
  },
  {
   "cell_type": "code",
   "execution_count": 15,
   "metadata": {},
   "outputs": [
    {
     "name": "stdout",
     "output_type": "stream",
     "text": [
      "1/1 [==============================] - 0s 2ms/step - loss: 0.1205 - root_mean_squared_error: 0.3472\n"
     ]
    },
    {
     "data": {
      "text/plain": [
       "[0.12054324150085449, 0.3471933901309967]"
      ]
     },
     "execution_count": 15,
     "metadata": {},
     "output_type": "execute_result"
    }
   ],
   "source": [
    "model.evaluate(X_test_list, Y_test['Portugal'])"
   ]
  },
  {
   "cell_type": "code",
   "execution_count": 16,
   "metadata": {},
   "outputs": [],
   "source": [
    "predictions = model.predict(X_test_list)"
   ]
  },
  {
   "cell_type": "markdown",
   "execution_count": null,
   "metadata": {},
   "source": [
    "Podemos ver abaixo os RMSE indivudais para a comparação entre previsões e dados reais de Portugal. Conseguimos concluir que para os novos casos e mortes os resultados foram razoáveis, mas não melhores do que os com métodos tradicionais, muito pelo facto de não termos o modelo otimizado, estando otimizado concerteza que iam ser melhores, mas também temos de ter em conta que estamos agora a prever para muitos países o que é de facto uma vantagem.  "
   ]
  },
  {
   "cell_type": "code",
   "execution_count": 17,
   "metadata": {},
   "outputs": [
    {
     "name": "stdout",
     "output_type": "stream",
     "text": [
      "RMSE new_cases:  49.52478285787273\n",
      "RMSE new_deaths:  8.917170575457442\n",
      "RMSE cases_trend:  6.52827898386294\n",
      "RMSE deaths_trend  0.6664391396757653\n"
     ]
    }
   ],
   "source": [
    "from sklearn.metrics import mean_squared_error\n",
    "\n",
    "print(\"RMSE new_cases: \",np.sqrt(mean_squared_error(Y_test['Portugal'][:,0],predictions[:,0])) * std[0] + mean[0])\n",
    "print(\"RMSE new_deaths: \",np.sqrt(mean_squared_error(Y_test['Portugal'][:,1],predictions[:,1])) * std[1] + mean[1])\n",
    "print(\"RMSE cases_trend: \",np.sqrt(mean_squared_error(Y_test['Portugal'][:,2],predictions[:,2])) * std[2] + mean[2])\n",
    "print(\"RMSE deaths_trend \",np.sqrt(mean_squared_error(Y_test['Portugal'][:,3],predictions[:,3])) * std[3] + mean[3])"
   ]
  },
  {
   "cell_type": "markdown",
   "execution_count": null,
   "metadata": {},
   "source": [
    "Apenas para termo de comparação temos os resultado relativos a um país dentro do grupo a França. Os resultado foram bastante semelhantes o que vai de encontro ao que estávamos à espera, pelo facto de pertencerem a grupos com séries temporais semelhantes"
   ]
  },
  {
   "cell_type": "code",
   "execution_count": 18,
   "metadata": {},
   "outputs": [
    {
     "name": "stdout",
     "output_type": "stream",
     "text": [
      "RMSE new_cases:  57.46834515129597\n",
      "RMSE new_deaths:  7.16613164555322\n",
      "RMSE cases_trend:  6.351676099884737\n",
      "RMSE deaths_trend  0.6715461273028813\n"
     ]
    }
   ],
   "source": [
    "from sklearn.metrics import mean_squared_error\n",
    "\n",
    "print(\"RMSE new_cases: \",np.sqrt(mean_squared_error(Y_test['France'][:,0],predictions[:,0])) * std[0] + mean[0])\n",
    "print(\"RMSE new_deaths: \",np.sqrt(mean_squared_error(Y_test['France'][:,1],predictions[:,1])) * std[1] + mean[1])\n",
    "print(\"RMSE cases_trend: \",np.sqrt(mean_squared_error(Y_test['France'][:,2],predictions[:,2])) * std[2] + mean[2])\n",
    "print(\"RMSE deaths_trend \",np.sqrt(mean_squared_error(Y_test['France'][:,3],predictions[:,3])) * std[3] + mean[3])"
   ]
  },
  {
   "cell_type": "code",
   "execution_count": 19,
   "metadata": {},
   "outputs": [],
   "source": [
    "def bar_plot(index, country, title):\n",
    "    x1_draw = Y_test[country][:,index] * std[index] + mean[index]\n",
    "    x2_draw = predictions[:,index] * std[index] + mean[index]\n",
    "    r = pd.DataFrame({'Real':x1_draw, 'Predicted': x2_draw})\n",
    "    r.plot(kind='bar',figsize=(20,5), title='Predictions for ' + title)\n",
    "    plt.show()"
   ]
  },
  {
   "cell_type": "markdown",
   "execution_count": null,
   "metadata": {},
   "source": [
    "Podemos agora ver os resultados previstos em comparação com os dados de teste, para todas as variáveis alvo de uma forma mais visual."
   ]
  },
  {
   "cell_type": "code",
   "execution_count": 20,
   "metadata": {},
   "outputs": [
    {
     "data": {
      "image/png": "[encoded data removed]",
      "text/plain": [
       "<Figure size 1440x360 with 1 Axes>"
      ]
     },
     "metadata": {
      "needs_background": "light"
     },
     "output_type": "display_data"
    }
   ],
   "source": [
    "bar_plot(0, 'Portugal', 'new cases')"
   ]
  },
  {
   "cell_type": "code",
   "execution_count": 21,
   "metadata": {},
   "outputs": [
    {
     "data": {
      "image/png": "[encoded data removed]",
      "text/plain": [
       "<Figure size 1440x360 with 1 Axes>"
      ]
     },
     "metadata": {
      "needs_background": "light"
     },
     "output_type": "display_data"
    }
   ],
   "source": [
    "bar_plot(1, 'Portugal', 'new deaths')"
   ]
  },
  {
   "cell_type": "code",
   "execution_count": 22,
   "metadata": {},
   "outputs": [
    {
     "data": {
      "image/png": "[encoded data removed]",
      "text/plain": [
       "<Figure size 1440x360 with 1 Axes>"
      ]
     },
     "metadata": {
      "needs_background": "light"
     },
     "output_type": "display_data"
    }
   ],
   "source": [
    "bar_plot(2, 'Portugal', 'new cases 7 days trend')"
   ]
  },
  {
   "cell_type": "code",
   "execution_count": 23,
   "metadata": {},
   "outputs": [
    {
     "data": {
      "image/png": "[encoded data removed]",
      "text/plain": [
       "<Figure size 1440x360 with 1 Axes>"
      ]
     },
     "metadata": {
      "needs_background": "light"
     },
     "output_type": "display_data"
    }
   ],
   "source": [
    "bar_plot(3, 'Portugal', 'new deaths 14 days trend')"
   ]
  },
  {
   "cell_type": "markdown",
   "execution_count": null,
   "metadata": {},
   "source": [
    "Outra solução sem utilizar vários inputs seria treinar o modelo várias vezes e usar para cada conjunto distinto de epochs diferentes países. Na verdade isso era algo simples de fazer, ficando aqui abaixo o código, mas é complicado de analisar a evolução do modelo, porque cada fit gera um history diferente"
   ]
  },
  {
   "cell_type": "code",
   "execution_count": 24,
   "metadata": {},
   "outputs": [],
   "source": [
    "input_ = Input(shape=(7,4))\n",
    "model = LSTM(64, input_shape=(7,4), dropout=0.3, recurrent_dropout=0.3)(input_)\n",
    "model = Dense(32,activation=\"relu\")(model)\n",
    "answer = Dense(4)(model)\n",
    "model = Model([input_], [answer])\n",
    "model.compile(optimizer = \"rmsprop\", loss = \"mse\", metrics = [RootMeanSquaredError()])\n",
    "\n",
    "for country in dataset['location'].unique():\n",
    "    history = model.fit(X[country],Y[country],epochs=2,validation_data=(X_val[country],Y_val[country]),shuffle= False,verbose=2)"
   ]
  },
  {
   "cell_type": "markdown",
   "execution_count": null,
   "metadata": {},
   "source": [
    "## Conclusão"
   ]
  },
  {
   "cell_type": "markdown",
   "execution_count": null,
   "metadata": {},
   "source": [
    "Infelizmente não conseguimos otimizar o nosso modelo de DL quer ao nível do hiperparâmetros quer ao nível da arquitetura que certamente terá muitas desvantagens, porém conseguimos rapidamente constatar que caso houvesse otimização este tipo de modelos rapidamente ultrapassam os de ML clássico, especialmete quando existem muitos dados, o que infelizmente nunca foi o caso. Este tipo de modelo ganhou bastante em comparação com os de ML clássico em termos de flexibilidade, não havendo necessidade de criar vários modelos para cada output."
   ]
  }
 ],
 "metadata": {
  "kernelspec": {
   "display_name": "Python 3",
   "language": "python",
   "name": "python3"
  },
  "language_info": {
   "codemirror_mode": {
    "name": "ipython",
    "version": 3
   },
   "file_extension": ".py",
   "mimetype": "text/x-python",
   "name": "python",
   "nbconvert_exporter": "python",
   "pygments_lexer": "ipython3",
   "version": "3.7.6"
  }
 },
 "nbformat": 4,
 "nbformat_minor": 4
}
