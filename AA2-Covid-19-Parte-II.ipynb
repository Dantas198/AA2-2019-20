{
 "cells": [
  {
   "cell_type": "code",
   "execution_count": 1,
   "metadata": {
    "_cell_guid": "b1076dfc-b9ad-4769-8c92-a6c4dae69d19",
    "_uuid": "8f2839f25d086af736a60e9eeb907d3b93b6e0e5"
   },
   "outputs": [],
   "source": [
    "import numpy as np \n",
    "import pandas as pd \n",
    "from itertools import tee\n",
    "import matplotlib.pyplot as plt\n",
    "\n",
    "from sklearn import linear_model\n",
    "from sklearn.feature_selection import SelectKBest, f_regression, RFECV, RFE\n",
    "from sklearn.model_selection import TimeSeriesSplit, cross_validate, GridSearchCV, RandomizedSearchCV\n",
    "from sklearn.pipeline import Pipeline\n",
    "from sklearn.preprocessing import MinMaxScaler\n",
    "from sklearn.preprocessing import PolynomialFeatures\n",
    "from sklearn.svm import SVR\n",
    "from sklearn.ensemble import RandomForestRegressor\n",
    "\n",
    "from sklearn.metrics import mean_squared_error, r2_score\n",
    "\n",
    "from sklearn.decomposition import PCA"
   ]
  },
  {
   "cell_type": "markdown",
   "execution_count": null,
   "metadata": {},
   "source": [
    "## Carregamento dos dados"
   ]
  },
  {
   "cell_type": "markdown",
   "execution_count": null,
   "metadata": {},
   "source": [
    "A utilização de métodos tradicionais de ML acarreta o inconveniente de apenas podermos treinar o modelo com um dataset. No caso do covid-19 e deste dataset, por se tratarem de séries temporais não podemos concatenar os dados de diferentes países para termos um maior volume de linhas para treino, o que no impede de utilizar o dataset global. Daí usarmos apenas o de Portugal para prever os seu novos casos confirmados e novas mortes."
   ]
  },
  {
   "cell_type": "code",
   "execution_count": 2,
   "metadata": {},
   "outputs": [],
   "source": [
    "dataset = pd.read_csv(\"../input/aa2-covid-19-parte-i/modified_dataset.csv\")\n",
    "dataset = dataset.drop(['Unnamed: 0'], axis = 1)"
   ]
  },
  {
   "cell_type": "code",
   "execution_count": 3,
   "metadata": {
    "_cell_guid": "79c7e3d0-c299-4dcb-8224-4455121ee9b0",
    "_uuid": "d629ff2d2480ee46fbb7e2d37f6b5fab8052498a"
   },
   "outputs": [],
   "source": [
    "# funções auxiliares\n",
    "\n",
    "def data_split(data, target):\n",
    "    y = data[target]\n",
    "    x = data.drop([target], axis=1)\n",
    "    \n",
    "    return x, y\n",
    "\n",
    "def split_for_model(data, train_count):\n",
    "    train = data[:train_count] \n",
    "    test = data[train_count:]\n",
    "    \n",
    "    return train, test\n",
    "    \n",
    "\n",
    "def plot_prediction(data, prediction, y_train, target, train_size):\n",
    "    aux_train = y_train.copy()\n",
    "    combined = pd.concat([aux_train, pd.Series(prediction, index=list(range(train_size, data.shape[0])))])\n",
    "    final = pd.concat([combined, data[target]], keys = ['previsão', 'real'], axis=1)\n",
    "    final = final.tail(data.shape[0]- train_size + 5)\n",
    "    ax = final.plot(figsize=(15,5))\n",
    "    ax = plt.axvline(x=train_size-1, linewidth=2, ls = ':', color='grey', alpha=0.5)\n",
    "    \n",
    "    \n",
    "def barplot_prediction(prediction, y_test):\n",
    "    r = pd.DataFrame({'Real': y_test, 'Predicted': prediction.flatten()})\n",
    "    r.plot(kind='bar',figsize=(20,5), title='Predictions')\n",
    "    plt.show()"
   ]
  },
  {
   "cell_type": "markdown",
   "execution_count": null,
   "metadata": {},
   "source": [
    "# Tradicional ML"
   ]
  },
  {
   "cell_type": "markdown",
   "execution_count": null,
   "metadata": {},
   "source": [
    "Como os dados são muito poucos vamos apenas assumir que os dados de teste são apenas correspondentes aos últimos 7 dias presentes na série temporal."
   ]
  },
  {
   "cell_type": "code",
   "execution_count": 4,
   "metadata": {},
   "outputs": [],
   "source": [
    "test_size = 7\n",
    "train_size = dataset.shape[0] - test_size"
   ]
  },
  {
   "cell_type": "markdown",
   "execution_count": null,
   "metadata": {},
   "source": [
    "Outra limitação de técnias tradicionais é que se queremos prever várias variáveis, ou seja, ter vários outputs temos de ter modelos diferentes para cada previsão, por isso a partir de agora teremos dois datasets, que vão ser treinados de forma separada, gerando modelos distintos. Para isso temos as seguintes linhas que criam esses novos datasets, separando já as features da variável alvo."
   ]
  },
  {
   "cell_type": "code",
   "execution_count": 5,
   "metadata": {},
   "outputs": [],
   "source": [
    "x_confirmados, y_confirmados = data_split(dataset, 'confirmados_novos')\n",
    "x_obitos, y_obitos = data_split(dataset, 'obitos_novos')"
   ]
  },
  {
   "cell_type": "markdown",
   "execution_count": null,
   "metadata": {},
   "source": [
    "## Normalização"
   ]
  },
  {
   "cell_type": "markdown",
   "execution_count": null,
   "metadata": {},
   "source": [
    "Irá ser efetuada normalização para permitir a melhor convergência nos modelos que iremos construir."
   ]
  },
  {
   "cell_type": "code",
   "execution_count": 6,
   "metadata": {},
   "outputs": [],
   "source": [
    "scaler_confirmados = MinMaxScaler()\n",
    "scaler_obitos = MinMaxScaler()\n",
    "\n",
    "x_confirmados = scaler_confirmados.fit_transform(x_confirmados)\n",
    "x_obitos = scaler_obitos.fit_transform(x_obitos)"
   ]
  },
  {
   "cell_type": "markdown",
   "execution_count": null,
   "metadata": {},
   "source": [
    "## Separação do Dataset em Treino e Teste"
   ]
  },
  {
   "cell_type": "code",
   "execution_count": 7,
   "metadata": {},
   "outputs": [],
   "source": [
    "x_train_c, x_test_c = split_for_model(x_confirmados, train_size)\n",
    "x_train_o, x_test_o = split_for_model(x_obitos, train_size)\n",
    "\n",
    "y_train_c, y_test_c = split_for_model(y_confirmados, train_size)\n",
    "y_train_o, y_test_o = split_for_model(y_obitos, train_size)"
   ]
  },
  {
   "cell_type": "markdown",
   "execution_count": null,
   "metadata": {},
   "source": [
    "## Construção dos modelos lineares e polinomias"
   ]
  },
  {
   "cell_type": "markdown",
   "execution_count": null,
   "metadata": {},
   "source": [
    "Na construção de cada modelo vamos ter de ter em conta o grande número de atributos presentes de momento no dataset. Para este efeito, por agora iremos utilizar modelos com regularização (Ridge e Lasso), onde a seleção de atributos está imbutida no modelo, e ainda modelos simples onde iremos utilizar RFECV e RFE (wrappers) para a seleção de atributos.\n",
    "\n",
    "Note-se que iremos utilizar modelos polinomiais, mas apenas de grau 2 em todos os atributos, porque não valerá a pena ser muito extenso neste sentido.\n",
    "\n",
    "No que toca a cross validation iremos utilizar o método TimeSeriesSplit para que consigamos avaliar corretamente as séries temporarais. Daqui em diante iremos usar sempre a mesma métrica de scoring, o RMSE, para conseguirmos comparar diferentes modelos."
   ]
  },
  {
   "cell_type": "code",
   "execution_count": 8,
   "metadata": {},
   "outputs": [],
   "source": [
    "# Define os modelos simples. Apenas o linear, neste caso.\n",
    "def calculate_simple_models():\n",
    "    ols = linear_model.LinearRegression(normalize=False)\n",
    "    return {'OLS': ols}\n",
    "\n",
    "\n",
    "# Retira os scores dos modelos simples. Utiliza RFECV para a seleção de atributos.\n",
    "def get_scores_simple_models(e, x_train, y_train, x_test, y_test, dataset):\n",
    "    tss = TimeSeriesSplit(n_splits=5).split(x_train)\n",
    "    \n",
    "    selector = RFECV(estimator=e, step=1, cv=tss, scoring='neg_root_mean_squared_error')\n",
    "    selector.fit(x_train, y_train)\n",
    "    \n",
    "    x_train_reduced = selector.transform(x_train)\n",
    "    x_test_reduced = selector.transform(x_test)\n",
    "    \n",
    "    print('Selected: ' + str(selector.n_features_) + ' features from model: ' + str(selector.estimator_))\n",
    "    for i in range(x_train.shape[1]):\n",
    "        if selector.support_[i] == True:\n",
    "            print('Column: %s' % (dataset.columns[i]))\n",
    "            \n",
    "    return get_scores(selector.estimator_, x_train_reduced, y_train, x_test_reduced, y_test)\n",
    "\n",
    "# A partir de cross validation obtem os scores no treino e na validação do modelo. Utiliza o predict para obter o score de teste\n",
    "def get_scores(estimator, x_train, y_train, x_test, y_test):\n",
    "    tss = TimeSeriesSplit(n_splits=5).split(x_train)\n",
    "    score = cross_validate(estimator, x_train, y_train, cv=tss,\n",
    "                           scoring= 'neg_root_mean_squared_error', \n",
    "                           return_train_score=True)\n",
    "    \n",
    "    \n",
    "    train_rmse = (score['train_score']*-1).mean()\n",
    "    validation_rmse = (score['test_score']*-1).mean()\n",
    "    \n",
    "    prediction = estimator.predict(x_test)\n",
    "    \n",
    "    test_rmse = np.sqrt(mean_squared_error(y_test, prediction))\n",
    "    \n",
    "    return [train_rmse, validation_rmse, test_rmse]"
   ]
  },
  {
   "cell_type": "code",
   "execution_count": 9,
   "metadata": {},
   "outputs": [],
   "source": [
    "# Define modelos que contém regularização e, portanto, utiliza gridSearch para otimizar os hiperparámetros\n",
    "def calculate_models_with_regularization(x_train, y_train):\n",
    "    tss_a = TimeSeriesSplit(n_splits=5).split(x_train)\n",
    "    tss_b, tss_c = tee(tss_a)\n",
    "    tss1, tss2 = tee(tss_b)\n",
    "    tss3, tss4 = tee(tss_c)\n",
    "\n",
    "    lasso_params = {'alpha':[100, 10, 1, 0.5, 0.1, 0.01]}\n",
    "    ridge_params = {'alpha':[100, 10, 1, 0.5, 0.1, 0.01]}\n",
    "\n",
    "    lasso_params_poly = {'fit__alpha':[100, 10, 1, 0.1, 0.01]}\n",
    "    ridge_params_poly = {'fit__alpha':[100, 10, 1, 0.1, 0.01]}\n",
    "    \n",
    "    lasso = linear_model.Lasso(normalize=False, max_iter=1000000000)\n",
    "    ridge = linear_model.Ridge(normalize=False, max_iter=1000000000)\n",
    "    \n",
    "    pipe1 = Pipeline([('poly', PolynomialFeatures()),\n",
    "                     ('fit', lasso)])\n",
    "    pipe2 = Pipeline([('poly', PolynomialFeatures()),\n",
    "                     ('fit', ridge)])\n",
    "\n",
    "    models = {'Lasso': GridSearchCV(lasso, param_grid=lasso_params, cv=tss1, scoring='neg_root_mean_squared_error',return_train_score=True, refit=True).fit(x_train, y_train),\n",
    "              'Ridge': GridSearchCV(ridge, param_grid=ridge_params, cv=tss2, scoring='neg_root_mean_squared_error',return_train_score=True, refit=True).fit(x_train, y_train),\n",
    "              'LassoPoly': GridSearchCV(pipe1, param_grid=lasso_params_poly, cv=tss3, scoring='neg_root_mean_squared_error',return_train_score=True,refit=True).fit(x_train, y_train),\n",
    "              'RidgePoly': GridSearchCV(pipe2, param_grid=ridge_params_poly, cv=tss4, scoring='neg_root_mean_squared_error',return_train_score=True,refit=True).fit(x_train, y_train),}\n",
    "    \n",
    "    return models\n",
    "\n",
    "# A obtem os scores de um modelo associado a gridSearch e os scores inerentes ao teste \n",
    "def get_scores_models_with_regularization(models, x_test, y_test):\n",
    "    \n",
    "    rmse_train_svm = models.cv_results_['mean_train_score'][models.best_index_] * -1\n",
    "    rmse_val_svm = models.best_score_*-1\n",
    "\n",
    "    train_rmse = rmse_train_svm\n",
    "    validation_rmse = rmse_val_svm\n",
    "\n",
    "    estimator = models.best_estimator_\n",
    "    y_pred = estimator.predict(x_test) \n",
    "\n",
    "    test_rmse = np.sqrt(mean_squared_error(y_test,y_pred))    \n",
    "    \n",
    "    return [train_rmse, validation_rmse, test_rmse]"
   ]
  },
  {
   "cell_type": "markdown",
   "execution_count": null,
   "metadata": {},
   "source": [
    "### Definição, treino e validação dos modelos para os novos casos confirmados"
   ]
  },
  {
   "cell_type": "code",
   "execution_count": 10,
   "metadata": {},
   "outputs": [],
   "source": [
    "simple_models_c = calculate_simple_models()\n",
    "models_with_regularization_c = calculate_models_with_regularization(x_train_c, y_train_c)"
   ]
  },
  {
   "cell_type": "code",
   "execution_count": 11,
   "metadata": {},
   "outputs": [],
   "source": [
    "regularization_scores_c = dict(map(lambda x: (x[0], get_scores_models_with_regularization(x[1], x_test_c, y_test_c)), models_with_regularization_c.items()))"
   ]
  },
  {
   "cell_type": "code",
   "execution_count": 12,
   "metadata": {},
   "outputs": [
    {
     "name": "stdout",
     "output_type": "stream",
     "text": [
      "Selected: 2 features from model: LinearRegression(copy_X=True, fit_intercept=True, n_jobs=None, normalize=False)\n",
      "Column: suspeitos_novos\n",
      "Column: confirmados_novos_trend_31\n"
     ]
    }
   ],
   "source": [
    "aux_dataset_c, y = data_split(dataset, 'confirmados_novos')\n",
    "simple_scores_c = dict(map(lambda x: (x[0], get_scores_simple_models(x[1], x_train_c, y_train_c, x_test_c, y_test_c, aux_dataset_c)), simple_models_c.items()))"
   ]
  },
  {
   "cell_type": "markdown",
   "execution_count": null,
   "metadata": {},
   "source": [
    "No print anterior podemos os atributos selecionados pelo RFECV para o caso da regressão linear e podemos ver que de facto muitos deles foram cálculados previamente, como é o caso de lags e trends. Algo que é interessante é que para o cálculo dos casos confirmados o modelo está a utilizar tanto as tendências a partir de 15 dias dos novos casos confirmados, como as dos novos óbitos, que é o mais interessante, visto que significa que o modelo está a usar as mortes para prever os casos. \n",
    "\n",
    "Também podemos confirmar que, entre outros atributos, os sujeitos que aguardam resultados (lab), novos supeitos e em vigilância foram mantidos pelo RFECV no modelo o que vai de encontro ao que é esperado, visto que faz sentido que estes atributos influenciem os casos confirmados, porque estes são um subconjunto deles.\n",
    "\n",
    "Como os restante modelos contém a seleção imbutida no modelo torna-se difícil analisar os atributos relevantes desses modelos, mas podemos tentar analisar os coeficientes dos modelos. Para não sermos muito extensos vamos olhar apenas para os modelos Lasso e Ridge, sem utilizar funções polinomias, visto que os coeficientes destas são impraticáveis de olhar."
   ]
  },
  {
   "cell_type": "markdown",
   "execution_count": null,
   "metadata": {},
   "source": [
    "Para o Lasso é fácil de saber quais os atributos relevantes, porque o seu coeficiente vai ser diferente de 0, devido à regularização L1. Para o ridge será mais complicado, porque ele atribui valor a todos os atributos. Posto isto vamos verificar apenas o top 20 de atributos em valor absoluto dos seus coeficientes para a análise."
   ]
  },
  {
   "cell_type": "code",
   "execution_count": 13,
   "metadata": {},
   "outputs": [],
   "source": [
    "def get_sorted(x,y):\n",
    "    result = zip(x,y)\n",
    "    result= list(map(lambda p : (p[0],abs(p[1])), result))\n",
    "    return sorted(result, key= lambda x: x[1], reverse=True)"
   ]
  },
  {
   "cell_type": "code",
   "execution_count": 14,
   "metadata": {},
   "outputs": [
    {
     "name": "stdout",
     "output_type": "stream",
     "text": [
      "Atributo: obitos_novos_trend_24,  coef: 293.26113465133466\n",
      "Atributo: confirmados_novos_trend_31,  coef: 289.48498706368383\n",
      "Atributo: suspeitos_novos,  coef: 244.5449022100306\n",
      "Atributo: suspeitos_novos_lag_1,  coef: 213.43404575203652\n",
      "Atributo: obitos_novos_trend_19,  coef: 191.1233099391361\n",
      "Atributo: obitos_novos_trend_30,  coef: 161.19292166133764\n",
      "Atributo: confirmados_novos_trend_21,  coef: 159.03392322800724\n",
      "Atributo: confirmados_novos_lag_6,  coef: 155.74451305465433\n",
      "Atributo: obitos_novos_lag_7,  coef: 152.7095353834204\n",
      "Atributo: obitos_novos_trend_26,  coef: 139.15261734310437\n",
      "Atributo: vigilancia,  coef: 137.15258609087107\n",
      "Atributo: confirmados_novos_trend_19,  coef: 131.1282217880331\n",
      "Atributo: suspeitos_novos_lag_4,  coef: 128.75780791233123\n",
      "Atributo: obitos_novos_trend_21,  coef: 128.2372463306462\n",
      "Atributo: confirmados_novos_trend_26,  coef: 127.171649857012\n",
      "Atributo: confirmados_novos_lag_1,  coef: 125.61546315625417\n",
      "Atributo: suspeitos_novos_lag_3,  coef: 112.40282586724452\n",
      "Atributo: lab_lag_2,  coef: 107.53725116208948\n",
      "Atributo: confirmados_novos_lag_8,  coef: 104.58808004026058\n",
      "Atributo: confirmados_novos_trend_17,  coef: 101.30162535885643\n"
     ]
    }
   ],
   "source": [
    "ridge_coefs = models_with_regularization_c['Ridge'].best_estimator_.coef_\n",
    "x = [aux_dataset_c.columns[i] for i in list(range(len(ridge_coefs)))]\n",
    "for i in get_sorted(x,ridge_coefs)[:20]:\n",
    "    print(\"Atributo: \" + i[0] + \", \", \"coef: \" + str(i[1]))"
   ]
  },
  {
   "cell_type": "code",
   "execution_count": 15,
   "metadata": {},
   "outputs": [
    {
     "name": "stdout",
     "output_type": "stream",
     "text": [
      "Atributo: obitos_novos_trend_24,  coef: 293.26113465133466\n",
      "Atributo: confirmados_novos_trend_31,  coef: 289.48498706368383\n",
      "Atributo: suspeitos_novos,  coef: 244.5449022100306\n",
      "Atributo: suspeitos_novos_lag_1,  coef: 213.43404575203652\n",
      "Atributo: obitos_novos_trend_19,  coef: 191.1233099391361\n",
      "Atributo: obitos_novos_trend_30,  coef: 161.19292166133764\n",
      "Atributo: confirmados_novos_trend_21,  coef: 159.03392322800724\n",
      "Atributo: confirmados_novos_lag_6,  coef: 155.74451305465433\n",
      "Atributo: obitos_novos_lag_7,  coef: 152.7095353834204\n",
      "Atributo: obitos_novos_trend_26,  coef: 139.15261734310437\n",
      "Atributo: vigilancia,  coef: 137.15258609087107\n",
      "Atributo: confirmados_novos_trend_19,  coef: 131.1282217880331\n",
      "Atributo: suspeitos_novos_lag_4,  coef: 128.75780791233123\n",
      "Atributo: obitos_novos_trend_21,  coef: 128.2372463306462\n",
      "Atributo: confirmados_novos_trend_26,  coef: 127.171649857012\n",
      "Atributo: confirmados_novos_lag_1,  coef: 125.61546315625417\n",
      "Atributo: suspeitos_novos_lag_3,  coef: 112.40282586724452\n",
      "Atributo: lab_lag_2,  coef: 107.53725116208948\n",
      "Atributo: confirmados_novos_lag_8,  coef: 104.58808004026058\n",
      "Atributo: confirmados_novos_trend_17,  coef: 101.30162535885643\n"
     ]
    }
   ],
   "source": [
    "ridge_coefs = models_with_regularization_c['Ridge'].best_estimator_.coef_\n",
    "x = [aux_dataset_c.columns[i] for i in list(range(len(ridge_coefs)))]\n",
    "for i in get_sorted(x,ridge_coefs)[:20]:\n",
    "    print(\"Atributo: \" + i[0] + \", \", \"coef: \" + str(i[1]))"
   ]
  },
  {
   "cell_type": "markdown",
   "execution_count": null,
   "metadata": {},
   "source": [
    "Podemos observar através dos top 20 do Ridge e do Lasso que os atributos selecionados são os mesmos, o que faz sentido, visto que o modelo é o mesmo e eles não se desviam muito dos selecionados pelo RFECV no caso do linear, porém os modelos irão ser um pouco diferentes em termos de resultados, como veremos de seguida."
   ]
  },
  {
   "cell_type": "markdown",
   "execution_count": null,
   "metadata": {},
   "source": [
    "Temos agora os scores(RMSE) apresentados para cada modelo considerado até agora. Dos modelos cálculados todos aparentam apresentar overfiting, visto que o erro no treino foi muito inferior ao erro na validação. Podemos ainda referir que o modelo LassoPoly foi o que apresentou melhores resultados nos erros de treino, porém também é tem o segundo maior erro em termos de validação. O modelo RidgePoly parece ser o mais equilibrado, pois é dos que tem menores erros na validação e treino e também contém o menor erro no teste.\n",
    "\n",
    "Consideramos que estes modelos estão bastante maus, considerando especialmente a grande quantidade de overfiting, mesmo com remoção de complexidade através da seleção de atributos e tentativa de otimizar os hiperparámetros. O fator que mais contribui para isto será sempre a diminuta quantidade de dados no dataset, o que não permite a generalização do modelo."
   ]
  },
  {
   "cell_type": "code",
   "execution_count": 16,
   "metadata": {},
   "outputs": [
    {
     "data": {
      "text/html": [
       "<div>\n",
       "<style scoped>\n",
       "    .dataframe tbody tr th:only-of-type {\n",
       "        vertical-align: middle;\n",
       "    }\n",
       "\n",
       "    .dataframe tbody tr th {\n",
       "        vertical-align: top;\n",
       "    }\n",
       "\n",
       "    .dataframe thead th {\n",
       "        text-align: right;\n",
       "    }\n",
       "</style>\n",
       "<table border=\"1\" class=\"dataframe\">\n",
       "  <thead>\n",
       "    <tr style=\"text-align: right;\">\n",
       "      <th></th>\n",
       "      <th>OLS</th>\n",
       "      <th>Lasso</th>\n",
       "      <th>Ridge</th>\n",
       "      <th>LassoPoly</th>\n",
       "      <th>RidgePoly</th>\n",
       "    </tr>\n",
       "  </thead>\n",
       "  <tbody>\n",
       "    <tr>\n",
       "      <th>train</th>\n",
       "      <td>148.527317</td>\n",
       "      <td>45.105386</td>\n",
       "      <td>42.670351</td>\n",
       "      <td>2.822345</td>\n",
       "      <td>8.979234</td>\n",
       "    </tr>\n",
       "    <tr>\n",
       "      <th>val</th>\n",
       "      <td>228.731571</td>\n",
       "      <td>229.552069</td>\n",
       "      <td>217.500950</td>\n",
       "      <td>233.320803</td>\n",
       "      <td>220.587706</td>\n",
       "    </tr>\n",
       "    <tr>\n",
       "      <th>test</th>\n",
       "      <td>87.211024</td>\n",
       "      <td>76.343416</td>\n",
       "      <td>80.725002</td>\n",
       "      <td>114.275068</td>\n",
       "      <td>88.971380</td>\n",
       "    </tr>\n",
       "  </tbody>\n",
       "</table>\n",
       "</div>"
      ],
      "text/plain": [
       "              OLS       Lasso       Ridge   LassoPoly   RidgePoly\n",
       "train  148.527317   45.105386   42.670351    2.822345    8.979234\n",
       "val    228.731571  229.552069  217.500950  233.320803  220.587706\n",
       "test    87.211024   76.343416   80.725002  114.275068   88.971380"
      ]
     },
     "execution_count": 16,
     "metadata": {},
     "output_type": "execute_result"
    }
   ],
   "source": [
    "scores_c = pd.DataFrame(dict(simple_scores_c, **regularization_scores_c), index=['train', 'val', 'test'])\n",
    "scores_c"
   ]
  },
  {
   "cell_type": "code",
   "execution_count": 17,
   "metadata": {},
   "outputs": [
    {
     "data": {
      "image/png": "[encoded data removed]",
      "text/plain": [
       "<Figure size 1440x360 with 1 Axes>"
      ]
     },
     "metadata": {
      "needs_background": "light"
     },
     "output_type": "display_data"
    }
   ],
   "source": [
    "prediction_c = models_with_regularization_c['RidgePoly'].best_estimator_.predict(x_test_c)\n",
    "barplot_prediction(prediction_c, y_test_c)"
   ]
  },
  {
   "cell_type": "markdown",
   "execution_count": null,
   "metadata": {},
   "source": [
    "### Definição, treino e validação dos modelos para os novos óbitos"
   ]
  },
  {
   "cell_type": "code",
   "execution_count": 18,
   "metadata": {},
   "outputs": [],
   "source": [
    "simple_models_o = calculate_simple_models()\n",
    "models_with_regularization_o = calculate_models_with_regularization(x_train_o, y_train_o)"
   ]
  },
  {
   "cell_type": "code",
   "execution_count": 19,
   "metadata": {},
   "outputs": [],
   "source": [
    "regularization_scores_o = dict(map(lambda x: (x[0], get_scores_models_with_regularization(x[1], x_test_o, y_test_o)), models_with_regularization_o.items()))"
   ]
  },
  {
   "cell_type": "code",
   "execution_count": 20,
   "metadata": {},
   "outputs": [
    {
     "name": "stdout",
     "output_type": "stream",
     "text": [
      "Selected: 53 features from model: LinearRegression(copy_X=True, fit_intercept=True, n_jobs=None, normalize=False)\n",
      "Column: confirmados_novos\n",
      "Column: internados\n",
      "Column: internados_uci\n",
      "Column: lab\n",
      "Column: vigilancia\n",
      "Column: lab_lag_1\n",
      "Column: lab_lag_2\n",
      "Column: suspeitos_novos_lag_1\n",
      "Column: suspeitos_novos_lag_3\n",
      "Column: suspeitos_novos_lag_4\n",
      "Column: suspeitos_novos_lag_5\n",
      "Column: vigilancia_lag_1\n",
      "Column: vigilancia_lag_2\n",
      "Column: vigilancia_lag_4\n",
      "Column: vigilancia_lag_5\n",
      "Column: obitos_novos_lag_5\n",
      "Column: obitos_novos_lag_8\n",
      "Column: confirmados_novos_lag_2\n",
      "Column: confirmados_novos_lag_3\n",
      "Column: confirmados_novos_lag_6\n",
      "Column: confirmados_novos_lag_7\n",
      "Column: confirmados_novos_lag_8\n",
      "Column: obitos_novos_trend_15\n",
      "Column: obitos_novos_trend_16\n",
      "Column: obitos_novos_trend_17\n",
      "Column: obitos_novos_trend_18\n",
      "Column: obitos_novos_trend_19\n",
      "Column: obitos_novos_trend_20\n",
      "Column: obitos_novos_trend_21\n",
      "Column: obitos_novos_trend_22\n",
      "Column: obitos_novos_trend_23\n",
      "Column: obitos_novos_trend_24\n",
      "Column: obitos_novos_trend_25\n",
      "Column: obitos_novos_trend_26\n",
      "Column: obitos_novos_trend_27\n",
      "Column: obitos_novos_trend_28\n",
      "Column: obitos_novos_trend_30\n",
      "Column: obitos_novos_trend_31\n",
      "Column: confirmados_novos_trend_15\n",
      "Column: confirmados_novos_trend_17\n",
      "Column: confirmados_novos_trend_18\n",
      "Column: confirmados_novos_trend_19\n",
      "Column: confirmados_novos_trend_20\n",
      "Column: confirmados_novos_trend_21\n",
      "Column: confirmados_novos_trend_22\n",
      "Column: confirmados_novos_trend_24\n",
      "Column: confirmados_novos_trend_25\n",
      "Column: confirmados_novos_trend_26\n",
      "Column: confirmados_novos_trend_27\n",
      "Column: confirmados_novos_trend_28\n",
      "Column: confirmados_novos_trend_29\n",
      "Column: confirmados_novos_trend_30\n",
      "Column: confirmados_novos_trend_31\n"
     ]
    }
   ],
   "source": [
    "aux_dataset_o, y = data_split(dataset, 'obitos_novos')\n",
    "simple_scores_o = dict(map(lambda x: (x[0], get_scores_simple_models(x[1], x_train_o, y_train_o, x_test_o, y_test_o, aux_dataset_o)), simple_models_o.items()))"
   ]
  },
  {
   "cell_type": "markdown",
   "execution_count": null,
   "metadata": {},
   "source": [
    "Ao contrário dos modelos para os novos casos confirmados, neste caso houve uma grande diminuição do número de features relevantes para o modelo. Vejamos, agora, os mais relevantes para o modelo com regularização com norma L2."
   ]
  },
  {
   "cell_type": "code",
   "execution_count": 21,
   "metadata": {},
   "outputs": [
    {
     "name": "stdout",
     "output_type": "stream",
     "text": [
      "Atributo: obitos_novos_lag_2,  coef: 2.639632649541561\n",
      "Atributo: obitos_novos_lag_4,  coef: 2.4546536565030013\n",
      "Atributo: obitos_novos_lag_1,  coef: 2.4518650735098984\n",
      "Atributo: lab,  coef: 2.1383605201685465\n",
      "Atributo: obitos_novos_lag_5,  coef: 2.0367212585627463\n",
      "Atributo: internados,  coef: 1.9417768319875173\n",
      "Atributo: obitos_novos_lag_6,  coef: 1.908967183755123\n",
      "Atributo: internados_uci,  coef: 1.874993871183933\n",
      "Atributo: obitos_novos_lag_3,  coef: 1.7680824700404012\n",
      "Atributo: suspeitos_novos_lag_4,  coef: 1.7202872185547495\n",
      "Atributo: confirmados_novos_trend_24,  coef: 1.6743795111655457\n",
      "Atributo: obitos_novos_lag_8,  coef: 1.6047891467665056\n",
      "Atributo: lab_lag_1,  coef: 1.4196069876579536\n",
      "Atributo: suspeitos_novos_lag_5,  coef: 1.3999449696003003\n",
      "Atributo: confirmados_novos_lag_3,  coef: 1.386765839625094\n",
      "Atributo: confirmados_novos_lag_5,  coef: 1.3751680373736639\n",
      "Atributo: lab_lag_2,  coef: 1.3615138482938467\n",
      "Atributo: obitos_novos_trend_17,  coef: 1.314174613254581\n",
      "Atributo: obitos_novos_lag_7,  coef: 1.198409048222471\n",
      "Atributo: obitos_novos_trend_21,  coef: 1.0939767869299006\n"
     ]
    }
   ],
   "source": [
    "ridge_coefs = models_with_regularization_o['Ridge'].best_estimator_.coef_\n",
    "x = [aux_dataset_o.columns[i] for i in list(range(len(ridge_coefs)))]\n",
    "for i in get_sorted(x,ridge_coefs)[:20]:\n",
    "    print(\"Atributo: \" + i[0] + \", \", \"coef: \" + str(i[1]))"
   ]
  },
  {
   "cell_type": "markdown",
   "execution_count": null,
   "metadata": {},
   "source": [
    "Mais uma vez o tempo perdido com o cálculo de lags e trends parece ter compensando, estando o modelo a usar cálculos deste tipo referentes tanto aos novos casos confirmados, como aos novos obitos, o que é normal, porque eles estão fortemente relacionados, sendo que atributos que afetem os casos confirmados também afetarão, em princípio, os obitos, aplicando-se também o contrário, devido a esta forte relação."
   ]
  },
  {
   "cell_type": "markdown",
   "execution_count": null,
   "metadata": {},
   "source": [
    "Quanto aos resultados obtidos o que falamos anteriormente aplica-se neste caso também. Existe uma grande quantidade de overfiting, sendo que não existe nenhum modelo que se destaque pela positiva, existe apenas a destacar o baixo erro no RidgePoly no treino e no teste, mas onde também existe um alto erro na validação. O modelo OLS é o que apresenta menos overfiting e parece ser o mais equilibrado, mas o erro no teste é o maior e, tendo em conta a ordem de grandeza, ainda é por alguma margem."
   ]
  },
  {
   "cell_type": "code",
   "execution_count": 22,
   "metadata": {},
   "outputs": [
    {
     "data": {
      "text/html": [
       "<div>\n",
       "<style scoped>\n",
       "    .dataframe tbody tr th:only-of-type {\n",
       "        vertical-align: middle;\n",
       "    }\n",
       "\n",
       "    .dataframe tbody tr th {\n",
       "        vertical-align: top;\n",
       "    }\n",
       "\n",
       "    .dataframe thead th {\n",
       "        text-align: right;\n",
       "    }\n",
       "</style>\n",
       "<table border=\"1\" class=\"dataframe\">\n",
       "  <thead>\n",
       "    <tr style=\"text-align: right;\">\n",
       "      <th></th>\n",
       "      <th>OLS</th>\n",
       "      <th>Lasso</th>\n",
       "      <th>Ridge</th>\n",
       "      <th>LassoPoly</th>\n",
       "      <th>RidgePoly</th>\n",
       "    </tr>\n",
       "  </thead>\n",
       "  <tbody>\n",
       "    <tr>\n",
       "      <th>train</th>\n",
       "      <td>0.283012</td>\n",
       "      <td>2.118629</td>\n",
       "      <td>2.771372</td>\n",
       "      <td>2.088953</td>\n",
       "      <td>0.085591</td>\n",
       "    </tr>\n",
       "    <tr>\n",
       "      <th>val</th>\n",
       "      <td>19.528181</td>\n",
       "      <td>9.292154</td>\n",
       "      <td>8.908430</td>\n",
       "      <td>9.339147</td>\n",
       "      <td>7.727091</td>\n",
       "    </tr>\n",
       "    <tr>\n",
       "      <th>test</th>\n",
       "      <td>1.521186</td>\n",
       "      <td>2.224915</td>\n",
       "      <td>3.973592</td>\n",
       "      <td>1.871183</td>\n",
       "      <td>1.682214</td>\n",
       "    </tr>\n",
       "  </tbody>\n",
       "</table>\n",
       "</div>"
      ],
      "text/plain": [
       "             OLS     Lasso     Ridge  LassoPoly  RidgePoly\n",
       "train   0.283012  2.118629  2.771372   2.088953   0.085591\n",
       "val    19.528181  9.292154  8.908430   9.339147   7.727091\n",
       "test    1.521186  2.224915  3.973592   1.871183   1.682214"
      ]
     },
     "execution_count": 22,
     "metadata": {},
     "output_type": "execute_result"
    }
   ],
   "source": [
    "scores_o = pd.DataFrame(dict(simple_scores_o, **regularization_scores_o), index=['train', 'val', 'test'])\n",
    "scores_o"
   ]
  },
  {
   "cell_type": "code",
   "execution_count": 23,
   "metadata": {},
   "outputs": [
    {
     "data": {
      "image/png": "[encoded data removed]",
      "text/plain": [
       "<Figure size 1440x360 with 1 Axes>"
      ]
     },
     "metadata": {
      "needs_background": "light"
     },
     "output_type": "display_data"
    }
   ],
   "source": [
    "prediction_o = simple_models_o['OLS'].fit(x_train_o, y_train_o).predict(x_test_o)\n",
    "barplot_prediction(prediction_o, y_test_o)"
   ]
  },
  {
   "cell_type": "markdown",
   "execution_count": null,
   "metadata": {},
   "source": [
    "## Construção de um modelo com SVR"
   ]
  },
  {
   "cell_type": "markdown",
   "execution_count": null,
   "metadata": {},
   "source": [
    "Para este modelo iremos utilizar randomizedSearchCV devido ao elevedo número de hiperparámetros e a junção do RFE neste processo, Infelizmente estamos limitados pelo RFE no que toca à utilização de tipos de kernels diferentes do lines, o que é limitante. Como não vamos usar gridSearch para estes seguintes modelos não vamos de todo chegar a uma solução ótima, porém podemos ter um modelo um pouco melhor do que sem otimização, sem sermos demasiado extensivos."
   ]
  },
  {
   "cell_type": "code",
   "execution_count": 24,
   "metadata": {},
   "outputs": [],
   "source": [
    "#Função auxiliar para usar RandomizedSearchCV com RFE\n",
    "def singular_random_search(params, model, x_train, y_train, iters):\n",
    "    tss = TimeSeriesSplit(n_splits=5).split(x_train)\n",
    "    \n",
    "    selector = RFE(estimator=model, step=1)\n",
    "    estimator = RandomizedSearchCV(selector, param_distributions=params, n_iter = iters, cv=tss, scoring='neg_root_mean_squared_error', refit=True).fit(x_train, y_train).best_estimator_\n",
    "    \n",
    "    return estimator"
   ]
  },
  {
   "cell_type": "markdown",
   "execution_count": null,
   "metadata": {},
   "source": [
    "### Definição, treino e validação do modelo SVR para os novos casos confirmados"
   ]
  },
  {
   "cell_type": "code",
   "execution_count": 25,
   "metadata": {},
   "outputs": [],
   "source": [
    "svr_params = {'estimator__kernel' : ['linear'],\n",
    "             'estimator__degree' : [2, 3, 4],\n",
    "             'estimator__C' : [0.1, 1, 10, 20, 100, 250, 300, 500],\n",
    "             'estimator__epsilon': [0.1, 1, 10, 100, 200, 220, 300],\n",
    "             \"estimator__gamma\": ['auto', 1e-8, 1e-7, 1e-6, 1e-5, 1e-4, 1e-3, 1e-2, 1e-1]\n",
    "           }"
   ]
  },
  {
   "cell_type": "code",
   "execution_count": 26,
   "metadata": {},
   "outputs": [],
   "source": [
    "svr_c = SVR(cache_size=1000)\n",
    "best_svr_model_c = singular_random_search(svr_params, svr_c, x_train_c, y_train_c, 100)"
   ]
  },
  {
   "cell_type": "markdown",
   "execution_count": null,
   "metadata": {},
   "source": [
    "Modelo selecionado:"
   ]
  },
  {
   "cell_type": "code",
   "execution_count": 27,
   "metadata": {},
   "outputs": [
    {
     "name": "stdout",
     "output_type": "stream",
     "text": [
      "SVR(C=250, cache_size=1000, coef0=0.0, degree=3, epsilon=10, gamma=1e-08,\n",
      "    kernel='linear', max_iter=-1, shrinking=True, tol=0.001, verbose=False)\n"
     ]
    }
   ],
   "source": [
    "print(best_svr_model_c.estimator_)"
   ]
  },
  {
   "cell_type": "markdown",
   "execution_count": null,
   "metadata": {},
   "source": [
    "O modelo selecionou atributos semelhantes aos anteriores, porém selecionou mais. O resultado que apresentamos de seguida, mostra que este modelo no geral foi pior que os anteriores, tendo mais erro no teste e no treino, porém ganhou em termos de generalidade, tendo um erro na validação menor que os restantes modelos."
   ]
  },
  {
   "cell_type": "code",
   "execution_count": 28,
   "metadata": {},
   "outputs": [
    {
     "data": {
      "text/html": [
       "<div>\n",
       "<style scoped>\n",
       "    .dataframe tbody tr th:only-of-type {\n",
       "        vertical-align: middle;\n",
       "    }\n",
       "\n",
       "    .dataframe tbody tr th {\n",
       "        vertical-align: top;\n",
       "    }\n",
       "\n",
       "    .dataframe thead th {\n",
       "        text-align: right;\n",
       "    }\n",
       "</style>\n",
       "<table border=\"1\" class=\"dataframe\">\n",
       "  <thead>\n",
       "    <tr style=\"text-align: right;\">\n",
       "      <th></th>\n",
       "      <th>OLS</th>\n",
       "      <th>Lasso</th>\n",
       "      <th>Ridge</th>\n",
       "      <th>LassoPoly</th>\n",
       "      <th>RidgePoly</th>\n",
       "      <th>SVR</th>\n",
       "    </tr>\n",
       "  </thead>\n",
       "  <tbody>\n",
       "    <tr>\n",
       "      <th>train</th>\n",
       "      <td>148.527317</td>\n",
       "      <td>45.105386</td>\n",
       "      <td>42.670351</td>\n",
       "      <td>2.822345</td>\n",
       "      <td>8.979234</td>\n",
       "      <td>63.988778</td>\n",
       "    </tr>\n",
       "    <tr>\n",
       "      <th>val</th>\n",
       "      <td>228.731571</td>\n",
       "      <td>229.552069</td>\n",
       "      <td>217.500950</td>\n",
       "      <td>233.320803</td>\n",
       "      <td>220.587706</td>\n",
       "      <td>199.703699</td>\n",
       "    </tr>\n",
       "    <tr>\n",
       "      <th>test</th>\n",
       "      <td>87.211024</td>\n",
       "      <td>76.343416</td>\n",
       "      <td>80.725002</td>\n",
       "      <td>114.275068</td>\n",
       "      <td>88.971380</td>\n",
       "      <td>65.154221</td>\n",
       "    </tr>\n",
       "  </tbody>\n",
       "</table>\n",
       "</div>"
      ],
      "text/plain": [
       "              OLS       Lasso       Ridge   LassoPoly   RidgePoly         SVR\n",
       "train  148.527317   45.105386   42.670351    2.822345    8.979234   63.988778\n",
       "val    228.731571  229.552069  217.500950  233.320803  220.587706  199.703699\n",
       "test    87.211024   76.343416   80.725002  114.275068   88.971380   65.154221"
      ]
     },
     "execution_count": 28,
     "metadata": {},
     "output_type": "execute_result"
    }
   ],
   "source": [
    "estimator = best_svr_model_c.estimator_\n",
    "x_train_reduced_c = best_svr_model_c.transform(x_train_c)\n",
    "x_test_reduced_c = best_svr_model_c.transform(x_test_c)\n",
    "svr_scores_c = get_scores(estimator, x_train_reduced_c , y_train_c, x_test_reduced_c , y_test_c)\n",
    "scores_c['SVR'] = svr_scores_c\n",
    "scores_c"
   ]
  },
  {
   "cell_type": "markdown",
   "execution_count": null,
   "metadata": {},
   "source": [
    "Agora as previsões deste modelo para o conjunto de teste:"
   ]
  },
  {
   "cell_type": "code",
   "execution_count": 29,
   "metadata": {},
   "outputs": [
    {
     "data": {
      "image/png": "[encoded data removed]",
      "text/plain": [
       "<Figure size 1440x360 with 1 Axes>"
      ]
     },
     "metadata": {
      "needs_background": "light"
     },
     "output_type": "display_data"
    }
   ],
   "source": [
    "prediction_c = estimator.predict(x_test_reduced_c)\n",
    "barplot_prediction(prediction_c, y_test_c)"
   ]
  },
  {
   "cell_type": "markdown",
   "execution_count": null,
   "metadata": {},
   "source": [
    "### Definição, treino e validação do modelo SVR para os novos óbitos"
   ]
  },
  {
   "cell_type": "code",
   "execution_count": 30,
   "metadata": {},
   "outputs": [],
   "source": [
    "svr_params = {'estimator__kernel' : ['linear'],\n",
    "             'estimator__degree' : [2, 3, 4],\n",
    "             'estimator__C' : [0.1, 1, 5, 7, 10, 20],\n",
    "             'estimator__epsilon': [0.1, 0.5, 1, 5, 10],\n",
    "             \"estimator__gamma\": ['auto', 1e-8, 1e-7, 1e-6, 1e-5, 1e-4, 1e-3, 1e-2, 1e-1]\n",
    "           }"
   ]
  },
  {
   "cell_type": "code",
   "execution_count": 31,
   "metadata": {},
   "outputs": [],
   "source": [
    "svr_o = SVR(cache_size=1000)\n",
    "best_svr_model_o = singular_random_search(svr_params, svr_o, x_train_o, y_train_o, 100)"
   ]
  },
  {
   "cell_type": "code",
   "execution_count": 32,
   "metadata": {},
   "outputs": [
    {
     "name": "stdout",
     "output_type": "stream",
     "text": [
      "RFE(estimator=SVR(C=5, cache_size=1000, coef0=0.0, degree=4, epsilon=5,\n",
      "                  gamma=1e-06, kernel='linear', max_iter=-1, shrinking=True,\n",
      "                  tol=0.001, verbose=False),\n",
      "    n_features_to_select=None, step=1, verbose=0)\n"
     ]
    }
   ],
   "source": [
    "print(best_svr_model_o)"
   ]
  },
  {
   "cell_type": "markdown",
   "execution_count": null,
   "metadata": {},
   "source": [
    "Assim como para os casos confirmados, o modelo dos óbitos com SVR não melhorou em relação aos outros modelos apresentados."
   ]
  },
  {
   "cell_type": "code",
   "execution_count": 33,
   "metadata": {},
   "outputs": [
    {
     "data": {
      "text/html": [
       "<div>\n",
       "<style scoped>\n",
       "    .dataframe tbody tr th:only-of-type {\n",
       "        vertical-align: middle;\n",
       "    }\n",
       "\n",
       "    .dataframe tbody tr th {\n",
       "        vertical-align: top;\n",
       "    }\n",
       "\n",
       "    .dataframe thead th {\n",
       "        text-align: right;\n",
       "    }\n",
       "</style>\n",
       "<table border=\"1\" class=\"dataframe\">\n",
       "  <thead>\n",
       "    <tr style=\"text-align: right;\">\n",
       "      <th></th>\n",
       "      <th>OLS</th>\n",
       "      <th>Lasso</th>\n",
       "      <th>Ridge</th>\n",
       "      <th>LassoPoly</th>\n",
       "      <th>RidgePoly</th>\n",
       "      <th>SVR</th>\n",
       "    </tr>\n",
       "  </thead>\n",
       "  <tbody>\n",
       "    <tr>\n",
       "      <th>train</th>\n",
       "      <td>0.283012</td>\n",
       "      <td>2.118629</td>\n",
       "      <td>2.771372</td>\n",
       "      <td>2.088953</td>\n",
       "      <td>0.085591</td>\n",
       "      <td>3.113824</td>\n",
       "    </tr>\n",
       "    <tr>\n",
       "      <th>val</th>\n",
       "      <td>19.528181</td>\n",
       "      <td>9.292154</td>\n",
       "      <td>8.908430</td>\n",
       "      <td>9.339147</td>\n",
       "      <td>7.727091</td>\n",
       "      <td>7.975965</td>\n",
       "    </tr>\n",
       "    <tr>\n",
       "      <th>test</th>\n",
       "      <td>1.521186</td>\n",
       "      <td>2.224915</td>\n",
       "      <td>3.973592</td>\n",
       "      <td>1.871183</td>\n",
       "      <td>1.682214</td>\n",
       "      <td>3.263754</td>\n",
       "    </tr>\n",
       "  </tbody>\n",
       "</table>\n",
       "</div>"
      ],
      "text/plain": [
       "             OLS     Lasso     Ridge  LassoPoly  RidgePoly       SVR\n",
       "train   0.283012  2.118629  2.771372   2.088953   0.085591  3.113824\n",
       "val    19.528181  9.292154  8.908430   9.339147   7.727091  7.975965\n",
       "test    1.521186  2.224915  3.973592   1.871183   1.682214  3.263754"
      ]
     },
     "execution_count": 33,
     "metadata": {},
     "output_type": "execute_result"
    }
   ],
   "source": [
    "estimator = best_svr_model_o.estimator_\n",
    "x_train_reduced_o = best_svr_model_o.transform(x_train_o)\n",
    "x_test_reduced_o = best_svr_model_o.transform(x_test_o)\n",
    "svr_scores_o = get_scores(estimator, x_train_reduced_o , y_train_o, x_test_reduced_o , y_test_o)\n",
    "scores_o['SVR'] = svr_scores_o\n",
    "scores_o"
   ]
  },
  {
   "cell_type": "code",
   "execution_count": 34,
   "metadata": {},
   "outputs": [
    {
     "data": {
      "image/png": "[encoded data removed]",
      "text/plain": [
       "<Figure size 1440x360 with 1 Axes>"
      ]
     },
     "metadata": {
      "needs_background": "light"
     },
     "output_type": "display_data"
    }
   ],
   "source": [
    "prediction_o = estimator.predict(x_test_reduced_o)\n",
    "barplot_prediction(prediction_o, y_test_o)"
   ]
  },
  {
   "cell_type": "markdown",
   "execution_count": null,
   "metadata": {},
   "source": [
    "# Random Forest Regressor"
   ]
  },
  {
   "cell_type": "markdown",
   "execution_count": null,
   "metadata": {},
   "source": [
    "Tentemos agora por último um modelo utilizando Random Forest para a regressão. Este tipo de modelos, em teória, tem algumas vantagens inerentes aos conjuntos de modelos, como ser mais robusto, estável e ainda mais preciso, porque utilizamos vários modelos para a previsão. "
   ]
  },
  {
   "cell_type": "code",
   "execution_count": 35,
   "metadata": {},
   "outputs": [],
   "source": [
    "rand_f_params = {\n",
    "    'estimator__n_estimators' : [10,50,100],\n",
    "    'estimator__min_samples_leaf' : [2, 3, 5, 10],\n",
    "    'estimator__min_samples_split' : [2, 3, 5, 10],\n",
    "    \"estimator__bootstrap\": [True, False]\n",
    "}"
   ]
  },
  {
   "cell_type": "markdown",
   "execution_count": null,
   "metadata": {},
   "source": [
    "### Definição, treino e validação do modelo RFR para os novos casos confirmados"
   ]
  },
  {
   "cell_type": "code",
   "execution_count": 36,
   "metadata": {},
   "outputs": [],
   "source": [
    "rand_f_c = RandomForestRegressor()\n",
    "best_rand_f_model_c = singular_random_search(rand_f_params, rand_f_c, x_train_c, y_train_c, 25)"
   ]
  },
  {
   "cell_type": "code",
   "execution_count": 37,
   "metadata": {},
   "outputs": [
    {
     "name": "stdout",
     "output_type": "stream",
     "text": [
      "RFE(estimator=RandomForestRegressor(bootstrap=True, ccp_alpha=0.0,\n",
      "                                    criterion='mse', max_depth=None,\n",
      "                                    max_features='auto', max_leaf_nodes=None,\n",
      "                                    max_samples=None, min_impurity_decrease=0.0,\n",
      "                                    min_impurity_split=None, min_samples_leaf=2,\n",
      "                                    min_samples_split=5,\n",
      "                                    min_weight_fraction_leaf=0.0,\n",
      "                                    n_estimators=10, n_jobs=None,\n",
      "                                    oob_score=False, random_state=None,\n",
      "                                    verbose=0, warm_start=False),\n",
      "    n_features_to_select=None, step=1, verbose=0)\n"
     ]
    }
   ],
   "source": [
    "print(best_rand_f_model_c)"
   ]
  },
  {
   "cell_type": "markdown",
   "execution_count": null,
   "metadata": {},
   "source": [
    "O modelo de RFR não apresentou melhores resultados do que os anteriores, como se pode verificiar na seguinte tabela, sendo até pior que o SVR, modelado anteriormente."
   ]
  },
  {
   "cell_type": "code",
   "execution_count": 38,
   "metadata": {},
   "outputs": [
    {
     "data": {
      "text/html": [
       "<div>\n",
       "<style scoped>\n",
       "    .dataframe tbody tr th:only-of-type {\n",
       "        vertical-align: middle;\n",
       "    }\n",
       "\n",
       "    .dataframe tbody tr th {\n",
       "        vertical-align: top;\n",
       "    }\n",
       "\n",
       "    .dataframe thead th {\n",
       "        text-align: right;\n",
       "    }\n",
       "</style>\n",
       "<table border=\"1\" class=\"dataframe\">\n",
       "  <thead>\n",
       "    <tr style=\"text-align: right;\">\n",
       "      <th></th>\n",
       "      <th>OLS</th>\n",
       "      <th>Lasso</th>\n",
       "      <th>Ridge</th>\n",
       "      <th>LassoPoly</th>\n",
       "      <th>RidgePoly</th>\n",
       "      <th>SVR</th>\n",
       "      <th>RFR</th>\n",
       "    </tr>\n",
       "  </thead>\n",
       "  <tbody>\n",
       "    <tr>\n",
       "      <th>train</th>\n",
       "      <td>148.527317</td>\n",
       "      <td>45.105386</td>\n",
       "      <td>42.670351</td>\n",
       "      <td>2.822345</td>\n",
       "      <td>8.979234</td>\n",
       "      <td>63.988778</td>\n",
       "      <td>66.037021</td>\n",
       "    </tr>\n",
       "    <tr>\n",
       "      <th>val</th>\n",
       "      <td>228.731571</td>\n",
       "      <td>229.552069</td>\n",
       "      <td>217.500950</td>\n",
       "      <td>233.320803</td>\n",
       "      <td>220.587706</td>\n",
       "      <td>199.703699</td>\n",
       "      <td>231.713156</td>\n",
       "    </tr>\n",
       "    <tr>\n",
       "      <th>test</th>\n",
       "      <td>87.211024</td>\n",
       "      <td>76.343416</td>\n",
       "      <td>80.725002</td>\n",
       "      <td>114.275068</td>\n",
       "      <td>88.971380</td>\n",
       "      <td>65.154221</td>\n",
       "      <td>42.226885</td>\n",
       "    </tr>\n",
       "  </tbody>\n",
       "</table>\n",
       "</div>"
      ],
      "text/plain": [
       "              OLS       Lasso       Ridge   LassoPoly   RidgePoly         SVR  \\\n",
       "train  148.527317   45.105386   42.670351    2.822345    8.979234   63.988778   \n",
       "val    228.731571  229.552069  217.500950  233.320803  220.587706  199.703699   \n",
       "test    87.211024   76.343416   80.725002  114.275068   88.971380   65.154221   \n",
       "\n",
       "              RFR  \n",
       "train   66.037021  \n",
       "val    231.713156  \n",
       "test    42.226885  "
      ]
     },
     "execution_count": 38,
     "metadata": {},
     "output_type": "execute_result"
    }
   ],
   "source": [
    "estimator = best_rand_f_model_c.estimator_\n",
    "x_train_reduced_c = best_svr_model_c.transform(x_train_c)\n",
    "x_test_reduced_c = best_svr_model_c.transform(x_test_c)\n",
    "svr_scores_c = get_scores(estimator, x_train_reduced_c , y_train_c, x_test_reduced_c , y_test_c)\n",
    "scores_c['RFR'] = svr_scores_c\n",
    "scores_c"
   ]
  },
  {
   "cell_type": "markdown",
   "execution_count": null,
   "metadata": {},
   "source": [
    "Previsão para o modelo calculado:"
   ]
  },
  {
   "cell_type": "code",
   "execution_count": 39,
   "metadata": {},
   "outputs": [
    {
     "data": {
      "image/png": "[encoded data removed]",
      "text/plain": [
       "<Figure size 1440x360 with 1 Axes>"
      ]
     },
     "metadata": {
      "needs_background": "light"
     },
     "output_type": "display_data"
    }
   ],
   "source": [
    "prediction_c = estimator.predict(x_test_reduced_c)\n",
    "barplot_prediction(prediction_c, y_test_c)"
   ]
  },
  {
   "cell_type": "markdown",
   "execution_count": null,
   "metadata": {},
   "source": [
    "### Definição, treino e validação do modelo RFR para os novos óbitos"
   ]
  },
  {
   "cell_type": "code",
   "execution_count": 40,
   "metadata": {},
   "outputs": [],
   "source": [
    "rand_f_o = RandomForestRegressor()\n",
    "best_rand_f_model_o = singular_random_search(rand_f_params, rand_f_o, x_train_o, y_train_o, 20)"
   ]
  },
  {
   "cell_type": "code",
   "execution_count": 41,
   "metadata": {},
   "outputs": [
    {
     "name": "stdout",
     "output_type": "stream",
     "text": [
      "RFE(estimator=RandomForestRegressor(bootstrap=True, ccp_alpha=0.0,\n",
      "                                    criterion='mse', max_depth=None,\n",
      "                                    max_features='auto', max_leaf_nodes=None,\n",
      "                                    max_samples=None, min_impurity_decrease=0.0,\n",
      "                                    min_impurity_split=None, min_samples_leaf=2,\n",
      "                                    min_samples_split=2,\n",
      "                                    min_weight_fraction_leaf=0.0,\n",
      "                                    n_estimators=100, n_jobs=None,\n",
      "                                    oob_score=False, random_state=None,\n",
      "                                    verbose=0, warm_start=False),\n",
      "    n_features_to_select=None, step=1, verbose=0)\n"
     ]
    }
   ],
   "source": [
    "print(best_rand_f_model_o)"
   ]
  },
  {
   "cell_type": "code",
   "execution_count": 42,
   "metadata": {},
   "outputs": [
    {
     "data": {
      "text/html": [
       "<div>\n",
       "<style scoped>\n",
       "    .dataframe tbody tr th:only-of-type {\n",
       "        vertical-align: middle;\n",
       "    }\n",
       "\n",
       "    .dataframe tbody tr th {\n",
       "        vertical-align: top;\n",
       "    }\n",
       "\n",
       "    .dataframe thead th {\n",
       "        text-align: right;\n",
       "    }\n",
       "</style>\n",
       "<table border=\"1\" class=\"dataframe\">\n",
       "  <thead>\n",
       "    <tr style=\"text-align: right;\">\n",
       "      <th></th>\n",
       "      <th>OLS</th>\n",
       "      <th>Lasso</th>\n",
       "      <th>Ridge</th>\n",
       "      <th>LassoPoly</th>\n",
       "      <th>RidgePoly</th>\n",
       "      <th>SVR</th>\n",
       "      <th>RFR</th>\n",
       "    </tr>\n",
       "  </thead>\n",
       "  <tbody>\n",
       "    <tr>\n",
       "      <th>train</th>\n",
       "      <td>0.283012</td>\n",
       "      <td>2.118629</td>\n",
       "      <td>2.771372</td>\n",
       "      <td>2.088953</td>\n",
       "      <td>0.085591</td>\n",
       "      <td>3.113824</td>\n",
       "      <td>1.463047</td>\n",
       "    </tr>\n",
       "    <tr>\n",
       "      <th>val</th>\n",
       "      <td>19.528181</td>\n",
       "      <td>9.292154</td>\n",
       "      <td>8.908430</td>\n",
       "      <td>9.339147</td>\n",
       "      <td>7.727091</td>\n",
       "      <td>7.975965</td>\n",
       "      <td>8.433949</td>\n",
       "    </tr>\n",
       "    <tr>\n",
       "      <th>test</th>\n",
       "      <td>1.521186</td>\n",
       "      <td>2.224915</td>\n",
       "      <td>3.973592</td>\n",
       "      <td>1.871183</td>\n",
       "      <td>1.682214</td>\n",
       "      <td>3.263754</td>\n",
       "      <td>3.302090</td>\n",
       "    </tr>\n",
       "  </tbody>\n",
       "</table>\n",
       "</div>"
      ],
      "text/plain": [
       "             OLS     Lasso     Ridge  LassoPoly  RidgePoly       SVR       RFR\n",
       "train   0.283012  2.118629  2.771372   2.088953   0.085591  3.113824  1.463047\n",
       "val    19.528181  9.292154  8.908430   9.339147   7.727091  7.975965  8.433949\n",
       "test    1.521186  2.224915  3.973592   1.871183   1.682214  3.263754  3.302090"
      ]
     },
     "execution_count": 42,
     "metadata": {},
     "output_type": "execute_result"
    }
   ],
   "source": [
    "estimator = best_rand_f_model_o.estimator_\n",
    "x_train_reduced_o = best_svr_model_o.transform(x_train_o)\n",
    "x_test_reduced_o = best_svr_model_o.transform(x_test_o)\n",
    "svr_scores_o = get_scores(estimator, x_train_reduced_o , y_train_o, x_test_reduced_o , y_test_o)\n",
    "scores_o['RFR'] = svr_scores_o\n",
    "scores_o"
   ]
  },
  {
   "cell_type": "markdown",
   "execution_count": null,
   "metadata": {},
   "source": [
    "Este modelo para os novos óbitos revelou-se um pouco interessante em relação aos restantes, visto que tem um erro no treino considerávelmente baixo, mas aparentar ser o que tem mais overfiting. Em comparação com o modelo formado para a previsão dos novos casos confirmados este modelo utiliza bastantes mais estimadores, sendo esta a diferença principal nos hiperparámetros dos modelos.\n",
    "\n",
    "Fica, no entanto, o valor da previsão:"
   ]
  },
  {
   "cell_type": "code",
   "execution_count": 43,
   "metadata": {},
   "outputs": [
    {
     "data": {
      "image/png": "[encoded data removed]",
      "text/plain": [
       "<Figure size 1440x360 with 1 Axes>"
      ]
     },
     "metadata": {
      "needs_background": "light"
     },
     "output_type": "display_data"
    }
   ],
   "source": [
    "prediction_o = estimator.predict(x_test_reduced_o)\n",
    "barplot_prediction(prediction_o, y_test_o)"
   ]
  }
 ],
 "metadata": {
  "kernelspec": {
   "display_name": "Python 3",
   "language": "python",
   "name": "python3"
  },
  "language_info": {
   "codemirror_mode": {
    "name": "ipython",
    "version": 3
   },
   "file_extension": ".py",
   "mimetype": "text/x-python",
   "name": "python",
   "nbconvert_exporter": "python",
   "pygments_lexer": "ipython3",
   "version": "3.7.6"
  }
 },
 "nbformat": 4,
 "nbformat_minor": 4
}
