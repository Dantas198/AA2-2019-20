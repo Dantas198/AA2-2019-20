{
 "cells": [
  {
   "cell_type": "markdown",
   "execution_count": null,
   "metadata": {},
   "source": [
    "# Covid-19 Forecasting - Encontrar Países Semelhantes Portugal "
   ]
  },
  {
   "cell_type": "markdown",
   "execution_count": null,
   "metadata": {},
   "source": [
    "Para que possamos utilizar as capacidades de deep learning e obter melhores resultados convém aumentar os dados que temos para o treino do modelo. Ao contrário das técnicas tradicionais, onde só podemos utilizar um dataset, a API do Keras permite-nos treinar uma rede com vários inputs, sendo que o número de linhas nao irá aumentar, porque ainda se tratam de séries temporais, mas a capacidade de generalizar do modelo deverá aumentar.\n",
    "\n",
    "A ideia irá passar por arranjar países semelhantes a Portugal no que toca à série temporal dos novos casos confirmados, para que possamos alimentar uma rede LSTM com os vários países e tentar comparar os novos resultados com os modelos definidos anteriormente. \n",
    "\n",
    "É relevante dizer que também iremos tentar prever as mortes, juntamente com os confirmados e que o critério de semelhança podia relacionar as séries temporais das mortes, juntar as duas, ou até outro tipo de semelhança, como a quantidade de testes...etc, mas isto implicariam muito trabalho de otimização, algo que já sai do ambito deste projeto, por isso seguimos a solução mais óbiva que é retirar as semelhanças a partir dos novos casos confirmados, como vamos ver de seguida os países encontrados, muitos deles são europeus e tem condições sanitárias semelhantes a Portugal, por isso as suas mortes por milhão não deverão divergir muito das de Portugal, assumindo que países maiores tem condições de saúde proporcionais\n",
    "\n",
    "Fica a nota de que daqui em diante iremos utilizar variáveis \"xyz_por_milhão\" como tentativa de normalizar um pouco os dados entre os diferentes países, porém a solução não é completamente adequada, mas é o melhor que temos de momento. "
   ]
  },
  {
   "cell_type": "code",
   "execution_count": 1,
   "metadata": {
    "_cell_guid": "b1076dfc-b9ad-4769-8c92-a6c4dae69d19",
    "_uuid": "8f2839f25d086af736a60e9eeb907d3b93b6e0e5"
   },
   "outputs": [],
   "source": [
    "import pandas as pd \n",
    "import matplotlib.pyplot as plt\n",
    "import numpy as np\n",
    "import math"
   ]
  },
  {
   "cell_type": "markdown",
   "execution_count": null,
   "metadata": {},
   "source": [
    "Vamos então pegar no dataset global que tinhamos analisado na Parte I"
   ]
  },
  {
   "cell_type": "code",
   "execution_count": 2,
   "metadata": {},
   "outputs": [],
   "source": [
    "dataset = pd.read_csv(\"https://raw.githubusercontent.com/owid/covid-19-data/master/public/data/owid-covid-data.csv\")"
   ]
  },
  {
   "cell_type": "markdown",
   "execution_count": null,
   "metadata": {},
   "source": [
    "Vamos agora construir um dataset auxiliar para a comparação das séries temporais dos novos casos por milhão."
   ]
  },
  {
   "cell_type": "code",
   "execution_count": 3,
   "metadata": {},
   "outputs": [],
   "source": [
    "new_dataset = pd.DataFrame()\n",
    "new_dataset['location'] = dataset['location']\n",
    "new_dataset['new_cases_per_million'] = dataset['new_cases_per_million']"
   ]
  },
  {
   "cell_type": "code",
   "execution_count": 4,
   "metadata": {},
   "outputs": [],
   "source": [
    "def calc_min(dataset, target, c_size):\n",
    "    new = pd.DataFrame(columns = ['n_days', 'reported_days before min>= ' + str(c_size)])\n",
    "    \n",
    "    i = 0\n",
    "    for index, row in dataset.iterrows(): \n",
    "        if row[target] >= c_size:\n",
    "            break\n",
    "        i+=1\n",
    "    \n",
    "    new.loc[0] = [dataset.shape[0], i]\n",
    "    return new"
   ]
  },
  {
   "cell_type": "markdown",
   "execution_count": null,
   "metadata": {},
   "source": [
    "Agora vamos analisar a quantidade de dias reportados em cada país e quantos dias passaram até atingir um mínimo de infetados, neste caso vamos assumir que esse número mínimo é 1 por milhão de habitantes, isto para tornar as séries mais interessantes e não cheias de zeros inicialmente."
   ]
  },
  {
   "cell_type": "code",
   "execution_count": 5,
   "metadata": {},
   "outputs": [
    {
     "data": {
      "text/html": [
       "<div>\n",
       "<style scoped>\n",
       "    .dataframe tbody tr th:only-of-type {\n",
       "        vertical-align: middle;\n",
       "    }\n",
       "\n",
       "    .dataframe tbody tr th {\n",
       "        vertical-align: top;\n",
       "    }\n",
       "\n",
       "    .dataframe thead th {\n",
       "        text-align: right;\n",
       "    }\n",
       "</style>\n",
       "<table border=\"1\" class=\"dataframe\">\n",
       "  <thead>\n",
       "    <tr style=\"text-align: right;\">\n",
       "      <th></th>\n",
       "      <th></th>\n",
       "      <th>n_days</th>\n",
       "      <th>reported_days before min&gt;= 1</th>\n",
       "    </tr>\n",
       "    <tr>\n",
       "      <th>location</th>\n",
       "      <th></th>\n",
       "      <th></th>\n",
       "      <th></th>\n",
       "    </tr>\n",
       "  </thead>\n",
       "  <tbody>\n",
       "    <tr>\n",
       "      <th>Afghanistan</th>\n",
       "      <th>0</th>\n",
       "      <td>167</td>\n",
       "      <td>84</td>\n",
       "    </tr>\n",
       "    <tr>\n",
       "      <th>Albania</th>\n",
       "      <th>0</th>\n",
       "      <td>108</td>\n",
       "      <td>1</td>\n",
       "    </tr>\n",
       "    <tr>\n",
       "      <th>Algeria</th>\n",
       "      <th>0</th>\n",
       "      <td>172</td>\n",
       "      <td>78</td>\n",
       "    </tr>\n",
       "    <tr>\n",
       "      <th>Andorra</th>\n",
       "      <th>0</th>\n",
       "      <td>103</td>\n",
       "      <td>0</td>\n",
       "    </tr>\n",
       "    <tr>\n",
       "      <th>Angola</th>\n",
       "      <th>0</th>\n",
       "      <td>95</td>\n",
       "      <td>95</td>\n",
       "    </tr>\n",
       "    <tr>\n",
       "      <th>...</th>\n",
       "      <th>...</th>\n",
       "      <td>...</td>\n",
       "      <td>...</td>\n",
       "    </tr>\n",
       "    <tr>\n",
       "      <th>Western Sahara</th>\n",
       "      <th>0</th>\n",
       "      <td>60</td>\n",
       "      <td>0</td>\n",
       "    </tr>\n",
       "    <tr>\n",
       "      <th>World</th>\n",
       "      <th>0</th>\n",
       "      <td>177</td>\n",
       "      <td>44</td>\n",
       "    </tr>\n",
       "    <tr>\n",
       "      <th>Yemen</th>\n",
       "      <th>0</th>\n",
       "      <td>76</td>\n",
       "      <td>40</td>\n",
       "    </tr>\n",
       "    <tr>\n",
       "      <th>Zambia</th>\n",
       "      <th>0</th>\n",
       "      <td>98</td>\n",
       "      <td>52</td>\n",
       "    </tr>\n",
       "    <tr>\n",
       "      <th>Zimbabwe</th>\n",
       "      <th>0</th>\n",
       "      <td>96</td>\n",
       "      <td>68</td>\n",
       "    </tr>\n",
       "  </tbody>\n",
       "</table>\n",
       "<p>212 rows × 2 columns</p>\n",
       "</div>"
      ],
      "text/plain": [
       "                 n_days reported_days before min>= 1\n",
       "location                                            \n",
       "Afghanistan    0    167                           84\n",
       "Albania        0    108                            1\n",
       "Algeria        0    172                           78\n",
       "Andorra        0    103                            0\n",
       "Angola         0     95                           95\n",
       "...                 ...                          ...\n",
       "Western Sahara 0     60                            0\n",
       "World          0    177                           44\n",
       "Yemen          0     76                           40\n",
       "Zambia         0     98                           52\n",
       "Zimbabwe       0     96                           68\n",
       "\n",
       "[212 rows x 2 columns]"
      ]
     },
     "execution_count": 5,
     "metadata": {},
     "output_type": "execute_result"
    }
   ],
   "source": [
    "aux2 = new_dataset.groupby('location').apply(lambda x : calc_min(x, 'new_cases_per_million', 1))\n",
    "aux2 "
   ]
  },
  {
   "cell_type": "code",
   "execution_count": 6,
   "metadata": {},
   "outputs": [
    {
     "name": "stdout",
     "output_type": "stream",
     "text": [
      "Média de dias registados:  122.28301886792453\n",
      "Desvio Padrão de dias registados:  37.46043845994087\n",
      "\n",
      "Média de dias sem casos a atingirem o limite:  34.410377358490564\n",
      "Desvio Padrão de dias sem casos a atingirem o limite:  34.723641315501986\n"
     ]
    }
   ],
   "source": [
    "print('Média de dias registados: ', aux2['n_days'].mean())\n",
    "print('Desvio Padrão de dias registados: ', aux2['n_days'].std())\n",
    "print('\\nMédia de dias sem casos a atingirem o limite: ', aux2['reported_days before min>= 1'].mean())\n",
    "print('Desvio Padrão de dias sem casos a atingirem o limite: ', aux2['reported_days before min>= 1'].std())"
   ]
  },
  {
   "cell_type": "markdown",
   "execution_count": null,
   "metadata": {},
   "source": [
    "Estes cálculos são relevantes para que possamos \"cortar\" as séries temporais em periodos relevantes para o problema e para que possam ser comparadas entre elas, ou seja, terem o mesmo número de dias registados em todos os países que forem sujeitos a esta comparação. \n",
    "\n",
    "Primeira iremos filtrar os países que têm o número mínimo de dias que pretendemos, retirando os dias iniciais sem registo de casos. Iremos considerar que no mínimo precisam de ter 100 dias, passando a ser este o seu número de linhas, obtivemos este número tendo em consiração os cálculos apresentados anteriormente. Tivemos também em atenção se Portugal estava contido nestes países.\n",
    "\n",
    "Para este efeito também poderiamos ter feito interpolações nas séries temporais que não tivessem valores suficientes, mas preferimos utilizar os valores reais."
   ]
  },
  {
   "cell_type": "code",
   "execution_count": 7,
   "metadata": {},
   "outputs": [],
   "source": [
    "def is_min(dataset, target, c_size, total_size):\n",
    "    j = 0\n",
    "    for index, row in dataset.iterrows(): \n",
    "        if row[target] >= c_size:\n",
    "            break\n",
    "        j += 1\n",
    "            \n",
    "    if dataset.shape[0] - j - total_size >= 0:\n",
    "        return True\n",
    "    \n",
    "    return False   "
   ]
  },
  {
   "cell_type": "code",
   "execution_count": 8,
   "metadata": {},
   "outputs": [
    {
     "name": "stdout",
     "output_type": "stream",
     "text": [
      "(25924, 2)\n"
     ]
    }
   ],
   "source": [
    "print(new_dataset.shape)"
   ]
  },
  {
   "cell_type": "code",
   "execution_count": 9,
   "metadata": {},
   "outputs": [],
   "source": [
    "new_dataset = new_dataset.groupby('location').filter(lambda x : is_min(x, 'new_cases_per_million', 1, 100))\n",
    "new_dataset = new_dataset.reset_index(drop=True)"
   ]
  },
  {
   "cell_type": "code",
   "execution_count": 10,
   "metadata": {},
   "outputs": [
    {
     "name": "stdout",
     "output_type": "stream",
     "text": [
      "(11038, 2)\n"
     ]
    }
   ],
   "source": [
    "print(new_dataset.shape)"
   ]
  },
  {
   "cell_type": "code",
   "execution_count": 11,
   "metadata": {},
   "outputs": [
    {
     "data": {
      "text/html": [
       "<div>\n",
       "<style scoped>\n",
       "    .dataframe tbody tr th:only-of-type {\n",
       "        vertical-align: middle;\n",
       "    }\n",
       "\n",
       "    .dataframe tbody tr th {\n",
       "        vertical-align: top;\n",
       "    }\n",
       "\n",
       "    .dataframe thead th {\n",
       "        text-align: right;\n",
       "    }\n",
       "</style>\n",
       "<table border=\"1\" class=\"dataframe\">\n",
       "  <thead>\n",
       "    <tr style=\"text-align: right;\">\n",
       "      <th></th>\n",
       "      <th>new_cases_per_million</th>\n",
       "    </tr>\n",
       "    <tr>\n",
       "      <th>location</th>\n",
       "      <th></th>\n",
       "    </tr>\n",
       "  </thead>\n",
       "  <tbody>\n",
       "    <tr>\n",
       "      <th>Albania</th>\n",
       "      <td>108</td>\n",
       "    </tr>\n",
       "    <tr>\n",
       "      <th>Andorra</th>\n",
       "      <td>103</td>\n",
       "    </tr>\n",
       "    <tr>\n",
       "      <th>Armenia</th>\n",
       "      <td>168</td>\n",
       "    </tr>\n",
       "    <tr>\n",
       "      <th>Australia</th>\n",
       "      <td>177</td>\n",
       "    </tr>\n",
       "    <tr>\n",
       "      <th>Austria</th>\n",
       "      <td>177</td>\n",
       "    </tr>\n",
       "  </tbody>\n",
       "</table>\n",
       "</div>"
      ],
      "text/plain": [
       "           new_cases_per_million\n",
       "location                        \n",
       "Albania                      108\n",
       "Andorra                      103\n",
       "Armenia                      168\n",
       "Australia                    177\n",
       "Austria                      177"
      ]
     },
     "execution_count": 11,
     "metadata": {},
     "output_type": "execute_result"
    }
   ],
   "source": [
    "new_dataset.groupby('location').count().head()"
   ]
  },
  {
   "cell_type": "markdown",
   "execution_count": null,
   "metadata": {},
   "source": [
    "De seguida temos de colocar as séries temporais com o tamanho pretendido e também mete-las de uma forma que possa ser avaliada por um modelo de machine learning não supervisionado, como o caso do K-means. Por isso, vamos passar as séries temporais de colunas para linhas, sendo que cada coluna agora vai representar um dia e as várias linhas os diferentes países."
   ]
  },
  {
   "cell_type": "code",
   "execution_count": 12,
   "metadata": {},
   "outputs": [],
   "source": [
    "# Coloca o dataset que foi passado como argumento com o tamanho pretendido\n",
    "def remove_unregistered_rows(dataset, target, minimum, size):\n",
    "    to_remove = []\n",
    "    j = 0\n",
    "    new = dataset.reset_index(drop=True)\n",
    "    for index, row in new.iterrows(): \n",
    "        if row[target] >= minimum:\n",
    "            break\n",
    "        to_remove.append(index)\n",
    "        j += 1\n",
    "        \n",
    "    low = size + j    \n",
    "    high = dataset.shape[0]\n",
    "    to_remove += range(low, high)\n",
    "   \n",
    "    return new.drop(to_remove)\n",
    "\n",
    "\n",
    "#converte uma coluna em linha.\n",
    "def turn_to_line(dataset, target):\n",
    "    c = []\n",
    "    for i in range(dataset.shape[0]):\n",
    "        c.append('d-' + str(i))\n",
    "    \n",
    "    new = pd.DataFrame(columns = c)\n",
    "    \n",
    "    i = 0\n",
    "    for v in dataset[target].values:\n",
    "        i +=1\n",
    "    new.loc[0] = dataset[target].values \n",
    "    \n",
    "    return new\n",
    "\n",
    "def interpolate_for_negative_values(dataset, target):\n",
    "    dataset[target] = np.where((dataset[target] < 0),np.nan ,dataset[target])\n",
    "    return dataset.interpolate(method='linear')\n",
    "    \n",
    "def transform(dataset, target, minimum, size):\n",
    "    new = remove_unregistered_rows(dataset, target, minimum, size)\n",
    "    new = interpolate_for_negative_values(new, target)\n",
    "    return turn_to_line(new, target) "
   ]
  },
  {
   "cell_type": "code",
   "execution_count": 13,
   "metadata": {},
   "outputs": [
    {
     "data": {
      "text/html": [
       "<div>\n",
       "<style scoped>\n",
       "    .dataframe tbody tr th:only-of-type {\n",
       "        vertical-align: middle;\n",
       "    }\n",
       "\n",
       "    .dataframe tbody tr th {\n",
       "        vertical-align: top;\n",
       "    }\n",
       "\n",
       "    .dataframe thead th {\n",
       "        text-align: right;\n",
       "    }\n",
       "</style>\n",
       "<table border=\"1\" class=\"dataframe\">\n",
       "  <thead>\n",
       "    <tr style=\"text-align: right;\">\n",
       "      <th></th>\n",
       "      <th></th>\n",
       "      <th>d-0</th>\n",
       "      <th>d-1</th>\n",
       "      <th>d-2</th>\n",
       "      <th>d-3</th>\n",
       "      <th>d-4</th>\n",
       "      <th>d-5</th>\n",
       "      <th>d-6</th>\n",
       "      <th>d-7</th>\n",
       "      <th>d-8</th>\n",
       "      <th>d-9</th>\n",
       "      <th>...</th>\n",
       "      <th>d-90</th>\n",
       "      <th>d-91</th>\n",
       "      <th>d-92</th>\n",
       "      <th>d-93</th>\n",
       "      <th>d-94</th>\n",
       "      <th>d-95</th>\n",
       "      <th>d-96</th>\n",
       "      <th>d-97</th>\n",
       "      <th>d-98</th>\n",
       "      <th>d-99</th>\n",
       "    </tr>\n",
       "    <tr>\n",
       "      <th>location</th>\n",
       "      <th></th>\n",
       "      <th></th>\n",
       "      <th></th>\n",
       "      <th></th>\n",
       "      <th></th>\n",
       "      <th></th>\n",
       "      <th></th>\n",
       "      <th></th>\n",
       "      <th></th>\n",
       "      <th></th>\n",
       "      <th></th>\n",
       "      <th></th>\n",
       "      <th></th>\n",
       "      <th></th>\n",
       "      <th></th>\n",
       "      <th></th>\n",
       "      <th></th>\n",
       "      <th></th>\n",
       "      <th></th>\n",
       "      <th></th>\n",
       "      <th></th>\n",
       "      <th></th>\n",
       "    </tr>\n",
       "  </thead>\n",
       "  <tbody>\n",
       "    <tr>\n",
       "      <th>United Kingdom</th>\n",
       "      <th>0</th>\n",
       "      <td>1.223</td>\n",
       "      <td>1.974</td>\n",
       "      <td>1.723</td>\n",
       "      <td>6.378</td>\n",
       "      <td>3.697</td>\n",
       "      <td>2.239</td>\n",
       "      <td>5.995</td>\n",
       "      <td>10.017</td>\n",
       "      <td>9.531</td>\n",
       "      <td>10.400</td>\n",
       "      <td>...</td>\n",
       "      <td>25.646</td>\n",
       "      <td>14.775</td>\n",
       "      <td>18.649</td>\n",
       "      <td>22.700</td>\n",
       "      <td>20.991</td>\n",
       "      <td>22.302</td>\n",
       "      <td>14.259</td>\n",
       "      <td>18.840</td>\n",
       "      <td>16.425</td>\n",
       "      <td>17.942</td>\n",
       "    </tr>\n",
       "    <tr>\n",
       "      <th>United States</th>\n",
       "      <th>0</th>\n",
       "      <td>1.060</td>\n",
       "      <td>1.544</td>\n",
       "      <td>2.347</td>\n",
       "      <td>2.486</td>\n",
       "      <td>2.680</td>\n",
       "      <td>5.335</td>\n",
       "      <td>9.027</td>\n",
       "      <td>14.607</td>\n",
       "      <td>16.236</td>\n",
       "      <td>21.519</td>\n",
       "      <td>...</td>\n",
       "      <td>62.277</td>\n",
       "      <td>69.132</td>\n",
       "      <td>77.459</td>\n",
       "      <td>77.160</td>\n",
       "      <td>59.042</td>\n",
       "      <td>60.293</td>\n",
       "      <td>71.616</td>\n",
       "      <td>77.217</td>\n",
       "      <td>83.872</td>\n",
       "      <td>90.359</td>\n",
       "    </tr>\n",
       "    <tr>\n",
       "      <th>Uruguay</th>\n",
       "      <th>0</th>\n",
       "      <td>1.727</td>\n",
       "      <td>0.576</td>\n",
       "      <td>6.045</td>\n",
       "      <td>6.045</td>\n",
       "      <td>8.348</td>\n",
       "      <td>4.318</td>\n",
       "      <td>4.606</td>\n",
       "      <td>7.197</td>\n",
       "      <td>6.621</td>\n",
       "      <td>1.152</td>\n",
       "      <td>...</td>\n",
       "      <td>0.000</td>\n",
       "      <td>0.000</td>\n",
       "      <td>0.288</td>\n",
       "      <td>0.000</td>\n",
       "      <td>0.288</td>\n",
       "      <td>0.000</td>\n",
       "      <td>0.288</td>\n",
       "      <td>0.864</td>\n",
       "      <td>1.727</td>\n",
       "      <td>4.894</td>\n",
       "    </tr>\n",
       "    <tr>\n",
       "      <th>Vatican</th>\n",
       "      <th>0</th>\n",
       "      <td>1236.094</td>\n",
       "      <td>0.000</td>\n",
       "      <td>0.000</td>\n",
       "      <td>0.000</td>\n",
       "      <td>0.000</td>\n",
       "      <td>0.000</td>\n",
       "      <td>0.000</td>\n",
       "      <td>0.000</td>\n",
       "      <td>0.000</td>\n",
       "      <td>0.000</td>\n",
       "      <td>...</td>\n",
       "      <td>0.000</td>\n",
       "      <td>0.000</td>\n",
       "      <td>0.000</td>\n",
       "      <td>0.000</td>\n",
       "      <td>0.000</td>\n",
       "      <td>0.000</td>\n",
       "      <td>0.000</td>\n",
       "      <td>0.000</td>\n",
       "      <td>0.000</td>\n",
       "      <td>0.000</td>\n",
       "    </tr>\n",
       "    <tr>\n",
       "      <th>World</th>\n",
       "      <th>0</th>\n",
       "      <td>1.944</td>\n",
       "      <td>0.541</td>\n",
       "      <td>0.328</td>\n",
       "      <td>0.277</td>\n",
       "      <td>0.265</td>\n",
       "      <td>0.256</td>\n",
       "      <td>0.239</td>\n",
       "      <td>0.068</td>\n",
       "      <td>0.128</td>\n",
       "      <td>0.139</td>\n",
       "      <td>...</td>\n",
       "      <td>11.006</td>\n",
       "      <td>11.027</td>\n",
       "      <td>12.401</td>\n",
       "      <td>12.577</td>\n",
       "      <td>12.084</td>\n",
       "      <td>10.419</td>\n",
       "      <td>11.179</td>\n",
       "      <td>12.197</td>\n",
       "      <td>12.747</td>\n",
       "      <td>13.846</td>\n",
       "    </tr>\n",
       "  </tbody>\n",
       "</table>\n",
       "<p>5 rows × 100 columns</p>\n",
       "</div>"
      ],
      "text/plain": [
       "                       d-0    d-1    d-2    d-3    d-4    d-5    d-6     d-7  \\\n",
       "location                                                                       \n",
       "United Kingdom 0     1.223  1.974  1.723  6.378  3.697  2.239  5.995  10.017   \n",
       "United States  0     1.060  1.544  2.347  2.486  2.680  5.335  9.027  14.607   \n",
       "Uruguay        0     1.727  0.576  6.045  6.045  8.348  4.318  4.606   7.197   \n",
       "Vatican        0  1236.094  0.000  0.000  0.000  0.000  0.000  0.000   0.000   \n",
       "World          0     1.944  0.541  0.328  0.277  0.265  0.256  0.239   0.068   \n",
       "\n",
       "                     d-8     d-9  ...    d-90    d-91    d-92    d-93    d-94  \\\n",
       "location                          ...                                           \n",
       "United Kingdom 0   9.531  10.400  ...  25.646  14.775  18.649  22.700  20.991   \n",
       "United States  0  16.236  21.519  ...  62.277  69.132  77.459  77.160  59.042   \n",
       "Uruguay        0   6.621   1.152  ...   0.000   0.000   0.288   0.000   0.288   \n",
       "Vatican        0   0.000   0.000  ...   0.000   0.000   0.000   0.000   0.000   \n",
       "World          0   0.128   0.139  ...  11.006  11.027  12.401  12.577  12.084   \n",
       "\n",
       "                    d-95    d-96    d-97    d-98    d-99  \n",
       "location                                                  \n",
       "United Kingdom 0  22.302  14.259  18.840  16.425  17.942  \n",
       "United States  0  60.293  71.616  77.217  83.872  90.359  \n",
       "Uruguay        0   0.000   0.288   0.864   1.727   4.894  \n",
       "Vatican        0   0.000   0.000   0.000   0.000   0.000  \n",
       "World          0  10.419  11.179  12.197  12.747  13.846  \n",
       "\n",
       "[5 rows x 100 columns]"
      ]
     },
     "execution_count": 13,
     "metadata": {},
     "output_type": "execute_result"
    }
   ],
   "source": [
    "chosen_countries = new_dataset.groupby('location').apply(lambda x : transform(x, 'new_cases_per_million', 1, 100))\n",
    "chosen_countries.tail()"
   ]
  },
  {
   "cell_type": "markdown",
   "execution_count": null,
   "metadata": {},
   "source": [
    "Podemos agora tentar classificar as séries temporais disponíveis no dataset chosen_countries com um método simples de K-mean clustering usando a distância euclideana. Utilizar este tipo de distância não é de todo apropriado para comparar séries temporais, porém como estas séries se tratam todas do mesmo caso, que é o covid-19, é expectável que elas tenham comportamentos semelhantes e que este método consiga um performance mínima.\n",
    "\n",
    "Vamos então analisar os resultados."
   ]
  },
  {
   "cell_type": "code",
   "execution_count": 14,
   "metadata": {},
   "outputs": [
    {
     "data": {
      "text/plain": [
       "KMeans(algorithm='auto', copy_x=True, init='k-means++', max_iter=300,\n",
       "       n_clusters=10, n_init=10, n_jobs=None, precompute_distances='auto',\n",
       "       random_state=None, tol=0.0001, verbose=0)"
      ]
     },
     "execution_count": 14,
     "metadata": {},
     "output_type": "execute_result"
    }
   ],
   "source": [
    "from sklearn.cluster import KMeans\n",
    "model = KMeans(n_clusters=10)\n",
    "model.fit(chosen_countries)"
   ]
  },
  {
   "cell_type": "code",
   "execution_count": 15,
   "metadata": {},
   "outputs": [
    {
     "data": {
      "text/plain": [
       "array([0, 7, 6, 0, 0, 6, 8, 0, 0, 0, 0, 0, 4, 0, 0, 0, 0, 0, 0, 8, 0, 0,\n",
       "       8, 0, 0, 0, 0, 0, 8, 0, 8, 0, 8, 0, 0, 0, 6, 0, 0, 0, 0, 9, 0, 0,\n",
       "       5, 0, 5, 0, 8, 0, 6, 0, 5, 0, 8, 2, 0, 0, 3, 0, 0, 6, 0, 0, 0, 8,\n",
       "       5, 8, 0, 5, 8, 5, 0, 1, 0], dtype=int32)"
      ]
     },
     "execution_count": 15,
     "metadata": {},
     "output_type": "execute_result"
    }
   ],
   "source": [
    "predictions = model.predict(chosen_countries)\n",
    "predictions"
   ]
  },
  {
   "cell_type": "markdown",
   "execution_count": null,
   "metadata": {},
   "source": [
    "Sabemos que portugal se encontra no índice 50. Vejamos então a que grupo foi atribuido. Infelizmente não temos classes naturais para realizar a comparação dos grupos obtidos pelo clustering, porém o mais importante será termos uma forma semi-automática de encontrar séries parecidas com a de Portugal."
   ]
  },
  {
   "cell_type": "code",
   "execution_count": 16,
   "metadata": {},
   "outputs": [
    {
     "name": "stdout",
     "output_type": "stream",
     "text": [
      "Índice de portugal:  slice(54, 55, None)\n"
     ]
    }
   ],
   "source": [
    "print(\"Índice de portugal: \", chosen_countries.index.get_loc('Portugal'))"
   ]
  },
  {
   "cell_type": "code",
   "execution_count": 17,
   "metadata": {},
   "outputs": [
    {
     "name": "stdout",
     "output_type": "stream",
     "text": [
      "Grupo de Portugal:  6\n"
     ]
    }
   ],
   "source": [
    "grupo = predictions[50]\n",
    "print(\"Grupo de Portugal: \", grupo)"
   ]
  },
  {
   "cell_type": "markdown",
   "execution_count": null,
   "metadata": {},
   "source": [
    "Vejamos então todos os países deste grupo:"
   ]
  },
  {
   "cell_type": "code",
   "execution_count": 18,
   "metadata": {},
   "outputs": [],
   "source": [
    "def get_group(group):\n",
    "    res = []\n",
    "    n = 0\n",
    "    for i in predictions:\n",
    "        if (i == group):\n",
    "            index = chosen_countries.index[n]\n",
    "            res.append(index[0])\n",
    "            print(index)\n",
    "        n += 1\n",
    "    return res"
   ]
  },
  {
   "cell_type": "code",
   "execution_count": 19,
   "metadata": {},
   "outputs": [
    {
     "name": "stdout",
     "output_type": "stream",
     "text": [
      "('Armenia', 0)\n",
      "('Bahrain', 0)\n",
      "('Kuwait', 0)\n",
      "('Oman', 0)\n",
      "('Singapore', 0)\n"
     ]
    }
   ],
   "source": [
    "portugal_group = get_group(grupo)"
   ]
  },
  {
   "cell_type": "code",
   "execution_count": 20,
   "metadata": {},
   "outputs": [],
   "source": [
    "def plot_group(rows, columns, group):\n",
    "    fig, axes = plt.subplots(nrows=rows, ncols=columns, figsize=(15,20))\n",
    "    x = y = 0\n",
    "    for i in group:\n",
    "        if y == columns:\n",
    "            break\n",
    "        chosen_countries.loc[i].transpose().plot(kind='bar', ax=axes[x][y], subplots=True, legend=False)\n",
    "        axes[x][y].set_title(i)\n",
    "        x += 1\n",
    "        if x == rows:\n",
    "            x = 0\n",
    "            y += 1\n",
    "\n",
    "    for axis in axes.flat:\n",
    "        plt.setp(axis.get_xticklabels(), visible=False) \n",
    "    plt.show()"
   ]
  },
  {
   "cell_type": "code",
   "execution_count": 21,
   "metadata": {},
   "outputs": [
    {
     "data": {
      "image/png": "[encoded data removed]",
      "text/plain": [
       "<Figure size 1080x1440 with 14 Axes>"
      ]
     },
     "metadata": {
      "needs_background": "light"
     },
     "output_type": "display_data"
    }
   ],
   "source": [
    "rows = 7\n",
    "columns = 2\n",
    "plot_group(rows, columns, portugal_group)"
   ]
  },
  {
   "cell_type": "markdown",
   "execution_count": null,
   "metadata": {},
   "source": [
    "Apesar de haver algumas diferenças e um caso não tão semelhante como é o caso da Holanda (Netherlands) os resultados parecem satisfatórios, tendo em conta a distribuição das séries temporais ao longo do tempo. Casos como Liechtenstein e Mónaco não se parecem encaixar no grupo, apesar de tudo.\n",
    "\n",
    "Vejamos agora outro grupo para termos de comparação."
   ]
  },
  {
   "cell_type": "code",
   "execution_count": 22,
   "metadata": {},
   "outputs": [
    {
     "name": "stdout",
     "output_type": "stream",
     "text": [
      "('Andorra', 0)\n"
     ]
    }
   ],
   "source": [
    "another_group = get_group(7)"
   ]
  },
  {
   "cell_type": "code",
   "execution_count": 23,
   "metadata": {},
   "outputs": [
    {
     "data": {
      "text/plain": [
       "1"
      ]
     },
     "execution_count": 23,
     "metadata": {},
     "output_type": "execute_result"
    }
   ],
   "source": [
    "len(another_group)"
   ]
  },
  {
   "cell_type": "code",
   "execution_count": 24,
   "metadata": {},
   "outputs": [
    {
     "data": {
      "image/png": "[encoded data removed]",
      "text/plain": [
       "<Figure size 1080x1440 with 8 Axes>"
      ]
     },
     "metadata": {
      "needs_background": "light"
     },
     "output_type": "display_data"
    }
   ],
   "source": [
    "plot_group(4, 2, another_group)"
   ]
  },
  {
   "cell_type": "markdown",
   "execution_count": null,
   "metadata": {},
   "source": [
    "Podemos ver no grupo 6 alguns países que não tem nada a ver com Portugal, no que toca à série temporal, como a Singapura e as Maldivas.\n",
    "\n",
    "Com a análise destes resultados e pelas nossas experiências constatamos que o número de clusters era muito relevante para o grupo formado, mesmo que esse número fosse elevado, ou seja, entre 9 e 10 clusters havia uma grande diferença. Como achamos que estamos a perder casos parecidos com o português vamos experimentar utilizar DTW (Dynamic Time Warping), em que esta métrica tenta encontrar o alinhamento ótimo não linear entre duas séries temporais. \n",
    "\n",
    "Para este efeito vamos usar o método mais lento (quadrático), porque os dados são relativamente pequenos, para trabalho futuro poderiamos otimizar.\n",
    "\n",
    "Fonte DTW: http://alexminnaar.com/2014/04/16/Time-Series-Classification-and-Clustering-with-Python.html"
   ]
  },
  {
   "cell_type": "code",
   "execution_count": 25,
   "metadata": {},
   "outputs": [],
   "source": [
    "def DTWDistance(s1, s2):\n",
    "    DTW={}\n",
    "\n",
    "    for i in range(len(s1)):\n",
    "        DTW[(i, -1)] = float('inf')\n",
    "    for i in range(len(s2)):\n",
    "        DTW[(-1, i)] = float('inf')\n",
    "    DTW[(-1, -1)] = 0\n",
    "\n",
    "    for i in range(len(s1)):\n",
    "        for j in range(len(s2)):\n",
    "            dist= (s1[i]-s2[j])**2\n",
    "            DTW[(i, j)] = dist + min(DTW[(i-1, j)],DTW[(i, j-1)], DTW[(i-1, j-1)])\n",
    "\n",
    "    return math.sqrt(DTW[len(s1)-1, len(s2)-1])"
   ]
  },
  {
   "cell_type": "markdown",
   "execution_count": null,
   "metadata": {},
   "source": [
    "Infelizmente pelo que sabemos não existe nenhum módulo de aprendizagem não supervisionada que utilize esta técnica, portanto iremos apenas tentar identificar países semelhantes a Portugal através desta métrica e sem cálcular os grupos em sí.\n",
    "\n",
    "De seguida fazemos esse cálculo e em paralelo verificamos os países que pertencem ao grupo de portugal antigo, obtido através do k-means, isto para termos a noção do valor da métrica associado a países que sabemos que são semelhantes."
   ]
  },
  {
   "cell_type": "code",
   "execution_count": 26,
   "metadata": {},
   "outputs": [
    {
     "name": "stdout",
     "output_type": "stream",
     "text": [
      "Albania 259.5439774180861\n",
      "Andorra 1462.2523092524077\n",
      "In Portugal group!!  ('Armenia', 0) 589.8841230589276\n",
      "Australia 315.9189325159226\n",
      "Austria 156.50201544708617\n",
      "In Portugal group!!  ('Bahrain', 0) 736.6075978260067\n",
      "Belgium 216.78744906705285\n",
      "Bhutan 352.88720007673845\n",
      "Bosnia and Herzegovina 253.3769894682624\n",
      "Brunei 286.06594350603865\n",
      "Bulgaria 264.721342061799\n",
      "Canada 161.13877034407327\n",
      "Chile 2275.3634460314247\n",
      "China 395.1321667189347\n",
      "Costa Rica 306.4324897722173\n",
      "Croatia 313.87387580682787\n",
      "Cyprus 185.34404819416238\n",
      "Czech Republic 237.71902955800581\n",
      "Denmark 156.90612871076763\n",
      "Ecuador 559.7150090831942\n",
      "Estonia 171.2843623915359\n",
      "Finland 202.20723359711937\n",
      "France 126.63822236295799\n",
      "Georgia 381.4456199433937\n",
      "Germany 160.89514431765798\n",
      "Greece 351.49977228157627\n",
      "Guyana 339.7514948399787\n",
      "Hungary 319.40729782051\n",
      "Iceland 393.01558827481637\n",
      "Iran 150.5294294614844\n",
      "Ireland 236.39163598993935\n",
      "Israel 103.32655970876995\n",
      "Italy 146.14403723381943\n",
      "Jamaica 349.7252334547795\n",
      "Jordan 422.96477646962506\n",
      "Kosovo 365.261838618545\n",
      "In Portugal group!!  ('Kuwait', 0) 764.902605921172\n",
      "Latvia 253.4226158455477\n",
      "Lebanon 384.1753845107726\n",
      "Liechtenstein 464.33810744865684\n",
      "Lithuania 226.34347278417374\n",
      "Luxembourg 533.578478891344\n",
      "Macedonia 219.05117525135535\n",
      "Malaysia 384.5946548939545\n",
      "Maldives 364.8237820811577\n",
      "Malta 175.22193057947965\n",
      "Moldova 220.36332428514504\n",
      "Monaco 267.2195174496054\n",
      "Netherlands 144.54433870269705\n",
      "Norway 171.39819105521497\n",
      "In Portugal group!!  ('Oman', 0) 615.6742009163612\n",
      "Palestine 285.97532096319094\n",
      "Panama 420.5466278832824\n",
      "Poland 326.6717473183134\n",
      "Portugal 0.0\n",
      "Qatar 3347.8723866691817\n",
      "Romania 268.5545213992868\n",
      "Saint Lucia 306.6709389785742\n",
      "San Marino 2381.7574154676727\n",
      "Serbia 157.41366247883315\n",
      "Seychelles 339.0982996507067\n",
      "In Portugal group!!  ('Singapore', 0) 459.5183728894853\n",
      "Slovakia 327.31830258175336\n",
      "Slovenia 289.4926830923367\n",
      "South Korea 349.42160763896675\n",
      "Spain 198.51978367973814\n",
      "Sweden 243.58337907172577\n",
      "Switzerland 203.83293688459676\n",
      "Trinidad and Tobago 303.89382815055706\n",
      "United Arab Emirates 147.7820663409468\n",
      "United Kingdom 123.00313751282934\n",
      "United States 275.8390739851771\n",
      "Uruguay 384.09333952959923\n",
      "Vatican 5808.118020753793\n",
      "World 345.261759523119\n"
     ]
    }
   ],
   "source": [
    "new_portugal_group = []\n",
    "for i in chosen_countries.index:\n",
    "    distance = DTWDistance(chosen_countries.loc['Portugal'].iloc[0], chosen_countries.loc[i[0]].iloc[0])\n",
    "    if i[0] in portugal_group:\n",
    "        print(\"In Portugal group!! \", i, distance)\n",
    "    else: \n",
    "        print(i[0], distance)\n",
    "    if distance <= 200:\n",
    "        new_portugal_group.append(i[0])"
   ]
  },
  {
   "cell_type": "markdown",
   "execution_count": null,
   "metadata": {},
   "source": [
    "Pegando na Noruega, Holanda e Reino Unido, que consideramos que tem séries muito parecidas com a de Portugal vemos que tem um valor para a métrica de 171, 144 e 123, respetivamente, sendo que, por exemplo, a China tem um valor de 395. Decidimos então que o limite superior da métrica poderá ser 200. Obviamente que isto está longe de ser preciso e otimizado, porém para o contexto deste trabalho parece-nos adequado.\n",
    "\n",
    "Podemos ver que países como o Liechtenstein (464) e Mónaco (267) já não vão fazer parte do grupo e países.\n",
    "\n",
    "Vejamos então o novo grupo."
   ]
  },
  {
   "cell_type": "code",
   "execution_count": 27,
   "metadata": {},
   "outputs": [
    {
     "name": "stdout",
     "output_type": "stream",
     "text": [
      "['Austria', 'Canada', 'Cyprus', 'Denmark', 'Estonia', 'France', 'Germany', 'Iran', 'Israel', 'Italy', 'Malta', 'Netherlands', 'Norway', 'Portugal', 'Serbia', 'Spain', 'United Arab Emirates', 'United Kingdom']\n"
     ]
    }
   ],
   "source": [
    "print(new_portugal_group)"
   ]
  },
  {
   "cell_type": "markdown",
   "execution_count": null,
   "metadata": {},
   "source": [
    "O grupo cresceu, mas não muito em relação ao antigo, porém houve ganhos, por exemplo Chipre já foi incluido, tendo uma série semelhante (intuitivamente), como podemos ver no seguinte gráfico, mas também introduziu os Emirados Árabes Unidos, cuja série não é tão semelhante, mas isto é apenas uma análise empírica."
   ]
  },
  {
   "cell_type": "code",
   "execution_count": 28,
   "metadata": {},
   "outputs": [
    {
     "data": {
      "text/plain": [
       "<matplotlib.axes._subplots.AxesSubplot at 0x7f0cbf912c10>"
      ]
     },
     "execution_count": 28,
     "metadata": {},
     "output_type": "execute_result"
    },
    {
     "data": {
      "image/png": "[encoded data removed]",
      "text/plain": [
       "<Figure size 432x288 with 1 Axes>"
      ]
     },
     "metadata": {
      "needs_background": "light"
     },
     "output_type": "display_data"
    }
   ],
   "source": [
    "chosen_countries.loc['Cyprus'].transpose().plot(kind='bar', title='Cyprus')"
   ]
  },
  {
   "cell_type": "code",
   "execution_count": 29,
   "metadata": {},
   "outputs": [
    {
     "data": {
      "text/plain": [
       "<matplotlib.axes._subplots.AxesSubplot at 0x7f0cc061f890>"
      ]
     },
     "execution_count": 29,
     "metadata": {},
     "output_type": "execute_result"
    },
    {
     "data": {
      "image/png": "[encoded data removed]",
      "text/plain": [
       "<Figure size 432x288 with 1 Axes>"
      ]
     },
     "metadata": {
      "needs_background": "light"
     },
     "output_type": "display_data"
    }
   ],
   "source": [
    "chosen_countries.loc['United Arab Emirates'].transpose().plot(kind='bar', title='United Arab Emirates')"
   ]
  },
  {
   "cell_type": "markdown",
   "execution_count": null,
   "metadata": {},
   "source": [
    "Posto isto vamos guardar os países que fazem parte deste novo grupo para que possam de seguida alimentar uma rede LSTM. Vamos recolher apenas as variáveis que queremos prever, sendo elas os new_cases_per_million e new_deaths_per_million. Poderiamos pegar em mais algumas como features, mas nenhuma delas apresenta grande correlação com as variáveis a prever e existem países dentro do grupo que não têm esses registos como é o caso de Chipre, Malta e Emirados Árabes Unidos no que toca a número de novos testes, por exemplo."
   ]
  },
  {
   "cell_type": "code",
   "execution_count": 30,
   "metadata": {},
   "outputs": [],
   "source": [
    "def transform_simple(dataset, target, minimum, size):\n",
    "    dataset = remove_unregistered_rows(dataset, target, minimum, size)\n",
    "    new = np.where((dataset[target] < 0),np.nan ,dataset[target])\n",
    "    dataset[target] = new\n",
    "    return dataset.interpolate(method='linear')"
   ]
  },
  {
   "cell_type": "code",
   "execution_count": 31,
   "metadata": {},
   "outputs": [],
   "source": [
    "new_dataset = pd.DataFrame()\n",
    "new_dataset['location'] = dataset['location']\n",
    "new_dataset['new_cases_per_million'] = dataset['new_cases_per_million']\n",
    "new_dataset['new_deaths_per_million'] = dataset['new_deaths_per_million']\n",
    "\n",
    "\n",
    "new_dataset = new_dataset.groupby('location').filter(lambda x : x['location'].iloc[0] in new_portugal_group).reset_index(drop=True)\n",
    "dataset_to_save = new_dataset.groupby('location').apply(lambda x : transform_simple(x, 'new_cases_per_million', 1, 100)).reset_index(drop=True)"
   ]
  },
  {
   "cell_type": "code",
   "execution_count": 32,
   "metadata": {},
   "outputs": [
    {
     "data": {
      "text/html": [
       "<div>\n",
       "<style scoped>\n",
       "    .dataframe tbody tr th:only-of-type {\n",
       "        vertical-align: middle;\n",
       "    }\n",
       "\n",
       "    .dataframe tbody tr th {\n",
       "        vertical-align: top;\n",
       "    }\n",
       "\n",
       "    .dataframe thead th {\n",
       "        text-align: right;\n",
       "    }\n",
       "</style>\n",
       "<table border=\"1\" class=\"dataframe\">\n",
       "  <thead>\n",
       "    <tr style=\"text-align: right;\">\n",
       "      <th></th>\n",
       "      <th>location</th>\n",
       "      <th>new_cases_per_million</th>\n",
       "      <th>new_deaths_per_million</th>\n",
       "    </tr>\n",
       "  </thead>\n",
       "  <tbody>\n",
       "    <tr>\n",
       "      <th>0</th>\n",
       "      <td>Austria</td>\n",
       "      <td>1.332</td>\n",
       "      <td>0.000</td>\n",
       "    </tr>\n",
       "    <tr>\n",
       "      <th>1</th>\n",
       "      <td>Austria</td>\n",
       "      <td>3.664</td>\n",
       "      <td>0.000</td>\n",
       "    </tr>\n",
       "    <tr>\n",
       "      <th>2</th>\n",
       "      <td>Austria</td>\n",
       "      <td>2.776</td>\n",
       "      <td>0.000</td>\n",
       "    </tr>\n",
       "    <tr>\n",
       "      <th>3</th>\n",
       "      <td>Austria</td>\n",
       "      <td>0.333</td>\n",
       "      <td>0.000</td>\n",
       "    </tr>\n",
       "    <tr>\n",
       "      <th>4</th>\n",
       "      <td>Austria</td>\n",
       "      <td>3.220</td>\n",
       "      <td>0.000</td>\n",
       "    </tr>\n",
       "    <tr>\n",
       "      <th>...</th>\n",
       "      <td>...</td>\n",
       "      <td>...</td>\n",
       "      <td>...</td>\n",
       "    </tr>\n",
       "    <tr>\n",
       "      <th>1795</th>\n",
       "      <td>United Kingdom</td>\n",
       "      <td>22.302</td>\n",
       "      <td>0.530</td>\n",
       "    </tr>\n",
       "    <tr>\n",
       "      <th>1796</th>\n",
       "      <td>United Kingdom</td>\n",
       "      <td>14.259</td>\n",
       "      <td>0.560</td>\n",
       "    </tr>\n",
       "    <tr>\n",
       "      <th>1797</th>\n",
       "      <td>United Kingdom</td>\n",
       "      <td>18.840</td>\n",
       "      <td>3.432</td>\n",
       "    </tr>\n",
       "    <tr>\n",
       "      <th>1798</th>\n",
       "      <td>United Kingdom</td>\n",
       "      <td>16.425</td>\n",
       "      <td>2.710</td>\n",
       "    </tr>\n",
       "    <tr>\n",
       "      <th>1799</th>\n",
       "      <td>United Kingdom</td>\n",
       "      <td>17.942</td>\n",
       "      <td>1.989</td>\n",
       "    </tr>\n",
       "  </tbody>\n",
       "</table>\n",
       "<p>1800 rows × 3 columns</p>\n",
       "</div>"
      ],
      "text/plain": [
       "            location  new_cases_per_million  new_deaths_per_million\n",
       "0            Austria                  1.332                   0.000\n",
       "1            Austria                  3.664                   0.000\n",
       "2            Austria                  2.776                   0.000\n",
       "3            Austria                  0.333                   0.000\n",
       "4            Austria                  3.220                   0.000\n",
       "...              ...                    ...                     ...\n",
       "1795  United Kingdom                 22.302                   0.530\n",
       "1796  United Kingdom                 14.259                   0.560\n",
       "1797  United Kingdom                 18.840                   3.432\n",
       "1798  United Kingdom                 16.425                   2.710\n",
       "1799  United Kingdom                 17.942                   1.989\n",
       "\n",
       "[1800 rows x 3 columns]"
      ]
     },
     "execution_count": 32,
     "metadata": {},
     "output_type": "execute_result"
    }
   ],
   "source": [
    "dataset_to_save"
   ]
  },
  {
   "cell_type": "code",
   "execution_count": 33,
   "metadata": {},
   "outputs": [],
   "source": [
    "dataset_to_save.to_csv(\"portugal_group_dataset.csv\", index = \"False\")"
   ]
  }
 ],
 "metadata": {
  "kernelspec": {
   "display_name": "Python 3",
   "language": "python",
   "name": "python3"
  },
  "language_info": {
   "codemirror_mode": {
    "name": "ipython",
    "version": 3
   },
   "file_extension": ".py",
   "mimetype": "text/x-python",
   "name": "python",
   "nbconvert_exporter": "python",
   "pygments_lexer": "ipython3",
   "version": "3.7.6"
  }
 },
 "nbformat": 4,
 "nbformat_minor": 4
}
