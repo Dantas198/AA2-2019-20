{
 "cells": [
  {
   "cell_type": "markdown",
   "metadata": {},
   "source": [
    "# Covid-19 Forecasting\n",
    "\n",
    "Fazer uma previsão do número de pessoas infetadas e de fatalidades nos diversos países e identificar os fatores relevantes para esta previsão.\n",
    "\n",
    "Em primeiro lugar, enriquecer o dataset com informações relevantes de cada país, como por exemplo informações demográficas e se possível sanitárias, e selecionar os atributos relevantes. Posteriormente utilizar regressão linear para a previsão e possivelmente incluir um modelo comportamental de epidemias para melhor ilustrar o problema e ainda otimização de parâmetros.\n",
    "\n",
    "Em segundo lugar, ponderar outras técnicas de aprendizagem máquina tradicionais através de testes.\n",
    "\n",
    "Por último, recorrer à utilização de RNN para comparar resultados com o primeiro modelo e tirar conclusões."
   ]
  }
 ],
 "metadata": {
  "kernelspec": {
   "display_name": "Python 3",
   "language": "python",
   "name": "python3"
  },
  "language_info": {
   "codemirror_mode": {
    "name": "ipython",
    "version": 3
   },
   "file_extension": ".py",
   "mimetype": "text/x-python",
   "name": "python",
   "nbconvert_exporter": "python",
   "pygments_lexer": "ipython3",
   "version": "3.7.6"
  }
 },
 "nbformat": 4,
 "nbformat_minor": 4
}
