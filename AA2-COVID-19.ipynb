{
 "cells": [
  {
   "cell_type": "markdown",
   "metadata": {},
   "source": [
    "# Covid-19 Forecasting\n",
    "\n",
    "Fazer uma previsão do número de pessoas infetadas e de fatalidades nos diversos países e identificar os fatores relevantes para esta previsão.\n",
    "\n",
    "Em primeiro lugar, enriquecer o dataset com informações relevantes de cada país, como por exemplo informações demográficas e se possível sanitárias, e selecionar os atributos relevantes. Posteriormente utilizar regressão linear para a previsão e possivelmente incluir um modelo comportamental de epidemias para melhor ilustrar o problema e ainda otimização de parâmetros.\n",
    "\n",
    "Em segundo lugar, ponderar outras técnicas de aprendizagem máquina tradicionais através de testes.\n",
    "\n",
    "Por último, recorrer à utilização de RNN para comparar resultados com o primeiro modelo e tirar conclusões."
   ]
  },
  {
   "cell_type": "code",
   "execution_count": 1,
   "metadata": {
    "_cell_guid": "b1076dfc-b9ad-4769-8c92-a6c4dae69d19",
    "_uuid": "8f2839f25d086af736a60e9eeb907d3b93b6e0e5"
   },
   "outputs": [],
   "source": [
    "import numpy as np \n",
    "import pandas as pd \n",
    "import matplotlib.pyplot as plt\n",
    "import pycountry_convert as pc"
   ]
  },
  {
   "cell_type": "code",
   "execution_count": 2,
   "metadata": {},
   "outputs": [],
   "source": [
    "kaggle_data_path = \"../input/\"\n",
    "local_data_path = \"data/\"\n",
    "\n",
    "train_dataset = pd.read_csv(local_data_path + \"covid19-global-forecasting-week-4/train.csv\")"
   ]
  },
  {
   "cell_type": "code",
   "execution_count": 3,
   "metadata": {},
   "outputs": [],
   "source": [
    "def parse_data_by_continent(df_continent, csv, date, column):\n",
    "    df = pd.read_csv(csv)\n",
    "    n_rows = df.shape[0]\n",
    "    \n",
    "    for i in range(n_rows):\n",
    "        country_name = df.at[i, \"Country/Region\"]\n",
    "        if \"(\" in country_name:\n",
    "            country_name = country_name.split()[0]\n",
    "            #country_name = country_name[:-1]\n",
    "        elif \"Cote\" in country_name:\n",
    "            country_name = \"Côte d'Ivoire\"\n",
    "        elif \"Korea\" in country_name:\n",
    "            country_name = \"Korea, Republic of\"\n",
    "        elif \"Taiwan\" in country_name:\n",
    "            country_name = \"Taiwan\"\n",
    "        elif \"US\" in country_name:\n",
    "            country_name = \"USA\"\n",
    "        \n",
    "        try:\n",
    "            country_code = pc.country_name_to_country_alpha2(country_name, cn_name_format=\"default\")\n",
    "            continent_name = pc.country_alpha2_to_continent_code(country_code)\n",
    "\n",
    "            if continent_name == \"EU\":\n",
    "                index = 0\n",
    "            elif continent_name == \"NA\":\n",
    "                index = 1\n",
    "            elif continent_name == \"SA\":\n",
    "                index = 2\n",
    "            elif continent_name == \"AS\":\n",
    "                index = 3\n",
    "            elif continent_name == \"AF\":\n",
    "                index = 4\n",
    "            elif continent_name == \"OC\":\n",
    "                index = 5\n",
    "\n",
    "            df_continent.at[index, column] += df.at[i, date]\n",
    "        except:\n",
    "            pass"
   ]
  },
  {
   "cell_type": "code",
   "execution_count": 4,
   "metadata": {},
   "outputs": [],
   "source": [
    "def data_by_continent(date, confirmed_csv, death_csv, recovered_csv, population_csv):\n",
    "    data = {'Continent': ['Europe', 'North America', 'South America', 'Asia', 'Africa', 'Oceania'],\n",
    "        'Population': [0, 0, 0, 0, 0, 0],\n",
    "        'Confirmed': [0, 0, 0, 0, 0, 0],\n",
    "        'Death': [0, 0, 0, 0, 0, 0],\n",
    "        'Recovered': [0, 0, 0, 0, 0, 0]}\n",
    "\n",
    "    df_continent = pd.DataFrame(data)\n",
    "    \n",
    "    parse_data_by_continent(df_continent, confirmed_csv, date, \"Confirmed\")\n",
    "    parse_data_by_continent(df_continent, death_csv, date, \"Death\")\n",
    "    parse_data_by_continent(df_continent, recovered_csv, date, \"Recovered\")\n",
    "    \n",
    "    df = pd.read_csv(population_csv)\n",
    "    n_rows = df.shape[0]\n",
    "    \n",
    "    for i in range(n_rows):\n",
    "        country_name = df.at[i, \"Country (or dependent territory)\"]\n",
    "        if \"(\" in country_name:\n",
    "            country_name = country_name.split('(')[0]\n",
    "            country_name = country_name[:-1]\n",
    "        \n",
    "        try:\n",
    "            country_code = pc.country_name_to_country_alpha2(country_name, cn_name_format=\"default\")\n",
    "            continent_name = pc.country_alpha2_to_continent_code(country_code)\n",
    "\n",
    "            if continent_name == \"EU\":\n",
    "                index = 0\n",
    "            elif continent_name == \"NA\":\n",
    "                index = 1\n",
    "            elif continent_name == \"SA\":\n",
    "                index = 2\n",
    "            elif continent_name == \"AS\":\n",
    "                index = 3\n",
    "            elif continent_name == \"AF\":\n",
    "                index = 4\n",
    "            elif continent_name == \"OC\":\n",
    "                index = 5\n",
    "\n",
    "            df_continent.at[index, \"Population\"] += int(df.at[i, \"Population\"].replace(',', ''))\n",
    "        except:\n",
    "            pass\n",
    "\n",
    "    return df_continent"
   ]
  },
  {
   "cell_type": "code",
   "execution_count": 5,
   "metadata": {},
   "outputs": [
    {
     "data": {
      "text/html": [
       "<div>\n",
       "<style scoped>\n",
       "    .dataframe tbody tr th:only-of-type {\n",
       "        vertical-align: middle;\n",
       "    }\n",
       "\n",
       "    .dataframe tbody tr th {\n",
       "        vertical-align: top;\n",
       "    }\n",
       "\n",
       "    .dataframe thead th {\n",
       "        text-align: right;\n",
       "    }\n",
       "</style>\n",
       "<table border=\"1\" class=\"dataframe\">\n",
       "  <thead>\n",
       "    <tr style=\"text-align: right;\">\n",
       "      <th></th>\n",
       "      <th>Continent</th>\n",
       "      <th>Population</th>\n",
       "      <th>Confirmed</th>\n",
       "      <th>Death</th>\n",
       "      <th>Recovered</th>\n",
       "    </tr>\n",
       "  </thead>\n",
       "  <tbody>\n",
       "    <tr>\n",
       "      <th>0</th>\n",
       "      <td>Europe</td>\n",
       "      <td>745100622</td>\n",
       "      <td>1369704</td>\n",
       "      <td>137151</td>\n",
       "      <td>488606</td>\n",
       "    </tr>\n",
       "    <tr>\n",
       "      <th>1</th>\n",
       "      <td>North America</td>\n",
       "      <td>586466837</td>\n",
       "      <td>1199621</td>\n",
       "      <td>71178</td>\n",
       "      <td>202821</td>\n",
       "    </tr>\n",
       "    <tr>\n",
       "      <th>2</th>\n",
       "      <td>South America</td>\n",
       "      <td>421571654</td>\n",
       "      <td>190180</td>\n",
       "      <td>9485</td>\n",
       "      <td>63804</td>\n",
       "    </tr>\n",
       "    <tr>\n",
       "      <th>3</th>\n",
       "      <td>Asia</td>\n",
       "      <td>4557160159</td>\n",
       "      <td>533341</td>\n",
       "      <td>18955</td>\n",
       "      <td>275703</td>\n",
       "    </tr>\n",
       "    <tr>\n",
       "      <th>4</th>\n",
       "      <td>Africa</td>\n",
       "      <td>1278061183</td>\n",
       "      <td>40570</td>\n",
       "      <td>1692</td>\n",
       "      <td>13385</td>\n",
       "    </tr>\n",
       "    <tr>\n",
       "      <th>5</th>\n",
       "      <td>Oceania</td>\n",
       "      <td>42901670</td>\n",
       "      <td>8289</td>\n",
       "      <td>113</td>\n",
       "      <td>7050</td>\n",
       "    </tr>\n",
       "  </tbody>\n",
       "</table>\n",
       "</div>"
      ],
      "text/plain": [
       "       Continent  Population  Confirmed   Death  Recovered\n",
       "0         Europe   745100622    1369704  137151     488606\n",
       "1  North America   586466837    1199621   71178     202821\n",
       "2  South America   421571654     190180    9485      63804\n",
       "3           Asia  4557160159     533341   18955     275703\n",
       "4         Africa  1278061183      40570    1692      13385\n",
       "5        Oceania    42901670       8289     113       7050"
      ]
     },
     "execution_count": 5,
     "metadata": {},
     "output_type": "execute_result"
    }
   ],
   "source": [
    "cssegi_sand_data = \"https://raw.githubusercontent.com/CSSEGISandData/COVID-19/master/csse_covid_19_data/csse_covid_19_time_series/\"\n",
    "confirmed_global = cssegi_sand_data + \"time_series_covid19_confirmed_global.csv\"\n",
    "death_global = cssegi_sand_data + \"time_series_covid19_deaths_global.csv\"\n",
    "recovered_global = cssegi_sand_data + \"time_series_covid19_recovered_global.csv\"\n",
    "population_global = local_data_path + \"countries-dataset-2020/Pupulation density by countries.csv\"\n",
    "\n",
    "covid_by_continent = data_by_continent(\"5/1/20\", confirmed_global, death_global, recovered_global, population_global)\n",
    "covid_by_continent"
   ]
  },
  {
   "cell_type": "code",
   "execution_count": 6,
   "metadata": {},
   "outputs": [
    {
     "data": {
      "image/png": "[encoded data removed]",
      "text/plain": [
       "<Figure size 1080x720 with 1 Axes>"
      ]
     },
     "metadata": {
      "needs_background": "light"
     },
     "output_type": "display_data"
    }
   ],
   "source": [
    "labels = covid_by_continent[\"Continent\"]\n",
    "confirmed = covid_by_continent[\"Confirmed\"]\n",
    "death = covid_by_continent[\"Death\"]\n",
    "recovered = covid_by_continent[\"Recovered\"]\n",
    "population = covid_by_continent[\"Population\"]\n",
    "\n",
    "x = np.arange(len(labels))\n",
    "width = 0.2\n",
    "\n",
    "fig, ax = plt.subplots(figsize=(15,10))\n",
    "ax.bar(x,           confirmed, width, label='Confirmed', align='center')\n",
    "ax.bar(x + width,   death,     width, label='Death',     align='center')\n",
    "ax.bar(x + width*2, recovered, width, label='Recovered', align='center')\n",
    "\n",
    "ax.set_ylabel('Total')\n",
    "ax.set_title('Covid-19 Data by Continent')\n",
    "ax.set_xticks(x+width)\n",
    "ax.set_xticklabels(labels)\n",
    "ax.legend()\n",
    "\n",
    "plt.show()\n"
   ]
  },
  {
   "cell_type": "code",
   "execution_count": 7,
   "metadata": {
    "scrolled": false
   },
   "outputs": [
    {
     "data": {
      "text/html": [
       "<div>\n",
       "<style scoped>\n",
       "    .dataframe tbody tr th:only-of-type {\n",
       "        vertical-align: middle;\n",
       "    }\n",
       "\n",
       "    .dataframe tbody tr th {\n",
       "        vertical-align: top;\n",
       "    }\n",
       "\n",
       "    .dataframe thead th {\n",
       "        text-align: right;\n",
       "    }\n",
       "</style>\n",
       "<table border=\"1\" class=\"dataframe\">\n",
       "  <thead>\n",
       "    <tr style=\"text-align: right;\">\n",
       "      <th></th>\n",
       "      <th>Country</th>\n",
       "      <th>ConfirmedCases</th>\n",
       "      <th>Percentage of Infected</th>\n",
       "      <th>Population</th>\n",
       "    </tr>\n",
       "  </thead>\n",
       "  <tbody>\n",
       "    <tr>\n",
       "      <th>0</th>\n",
       "      <td>Australia</td>\n",
       "      <td>6778</td>\n",
       "      <td>0</td>\n",
       "      <td>25649909</td>\n",
       "    </tr>\n",
       "    <tr>\n",
       "      <th>1</th>\n",
       "      <td>Canada</td>\n",
       "      <td>56329</td>\n",
       "      <td>0</td>\n",
       "      <td>37961548</td>\n",
       "    </tr>\n",
       "    <tr>\n",
       "      <th>2</th>\n",
       "      <td>Norway</td>\n",
       "      <td>7783</td>\n",
       "      <td>0</td>\n",
       "      <td>5367580</td>\n",
       "    </tr>\n",
       "    <tr>\n",
       "      <th>3</th>\n",
       "      <td>South Korea</td>\n",
       "      <td>10780</td>\n",
       "      <td>0</td>\n",
       "      <td>51780579</td>\n",
       "    </tr>\n",
       "    <tr>\n",
       "      <th>4</th>\n",
       "      <td>Japan</td>\n",
       "      <td>14305</td>\n",
       "      <td>0</td>\n",
       "      <td>126010000</td>\n",
       "    </tr>\n",
       "    <tr>\n",
       "      <th>5</th>\n",
       "      <td>United States</td>\n",
       "      <td>1103295</td>\n",
       "      <td>0</td>\n",
       "      <td>329470935</td>\n",
       "    </tr>\n",
       "    <tr>\n",
       "      <th>6</th>\n",
       "      <td>Brazil</td>\n",
       "      <td>92202</td>\n",
       "      <td>0</td>\n",
       "      <td>211270518</td>\n",
       "    </tr>\n",
       "    <tr>\n",
       "      <th>7</th>\n",
       "      <td>Sweden</td>\n",
       "      <td>21520</td>\n",
       "      <td>0</td>\n",
       "      <td>10365705</td>\n",
       "    </tr>\n",
       "    <tr>\n",
       "      <th>8</th>\n",
       "      <td>Portugal</td>\n",
       "      <td>25351</td>\n",
       "      <td>0</td>\n",
       "      <td>10276617</td>\n",
       "    </tr>\n",
       "  </tbody>\n",
       "</table>\n",
       "</div>"
      ],
      "text/plain": [
       "         Country  ConfirmedCases  Percentage of Infected Population\n",
       "0      Australia            6778                       0   25649909\n",
       "1         Canada           56329                       0   37961548\n",
       "2         Norway            7783                       0    5367580\n",
       "3    South Korea           10780                       0   51780579\n",
       "4          Japan           14305                       0  126010000\n",
       "5  United States         1103295                       0  329470935\n",
       "6         Brazil           92202                       0  211270518\n",
       "7         Sweden           21520                       0   10365705\n",
       "8       Portugal           25351                       0   10276617"
      ]
     },
     "execution_count": 7,
     "metadata": {},
     "output_type": "execute_result"
    }
   ],
   "source": [
    "population_dataset = pd.read_csv(local_data_path + \"countries-dataset-2020/Pupulation density by countries.csv\")\n",
    "\n",
    "data_updated = train_dataset.loc[train_dataset['Date'] == '2020-05-01']\n",
    "\n",
    "choosen_countries = {\n",
    "    'Australia':     0,\n",
    "    'Canada':        1,\n",
    "    'Norway':        2,\n",
    "    'South Korea':   3,\n",
    "    'Japan':         4,\n",
    "    'United States': 5,\n",
    "    'Brazil':        6,\n",
    "    'Sweden':        7,\n",
    "    'Portugal':      8,\n",
    "}\n",
    "\n",
    "n = len(choosen_countries)\n",
    "\n",
    "df = pd.DataFrame({\n",
    "    'Country': list(choosen_countries.keys()),\n",
    "    'ConfirmedCases': [0] * n,\n",
    "    'Percentage of Infected': [0] * n\n",
    "})\n",
    "\n",
    "for country, index in choosen_countries.items():\n",
    "    population_row = population_dataset.loc[population_dataset['Country (or dependent territory)'] == country]\n",
    "    \n",
    "    df.at[index, 'Population'] = population_row['Population'].iloc[0].replace(',', '')\n",
    "    \n",
    "    if country == \"South Korea\":\n",
    "        country = \"Korea, South\"\n",
    "    elif country == \"United States\":\n",
    "        country = \"US\"\n",
    "        \n",
    "    covid_rows = data_updated.loc[data_updated['Country_Region'] == country]\n",
    "    total_cofirmed = 0\n",
    "    \n",
    "    for _, row in covid_rows.iterrows():\n",
    "        total_cofirmed += row['ConfirmedCases']\n",
    "    df.at[index, 'ConfirmedCases'] = total_cofirmed\n",
    "        \n",
    "df"
   ]
  },
  {
   "cell_type": "markdown",
   "metadata": {},
   "source": [
    "## **Exploração inicial dos dados**"
   ]
  },
  {
   "cell_type": "code",
   "execution_count": null,
   "metadata": {},
   "outputs": [],
   "source": [
    "train_dataset.head()"
   ]
  },
  {
   "cell_type": "markdown",
   "metadata": {},
   "source": [
    "O dataset inicial contém apenas o número de casos confirmados e as fatalidades por país e em alguns casos por província desse país, como é o caso da China. Para melhor entender a magnitude dos dados recolhidos vamos verificar a evolução dos casos confirmados e das fatalidades desde o início da propagação do vírus e a nível global. "
   ]
  },
  {
   "cell_type": "code",
   "execution_count": null,
   "metadata": {},
   "outputs": [],
   "source": [
    "total_confirmed = train_dataset.groupby(['Date']).agg({'ConfirmedCases':['sum']})\n",
    "total_fatalities = train_dataset.groupby(['Date']).agg({'Fatalities':['sum']})\n",
    "total_confirmed.join(total_fatalities).plot()"
   ]
  },
  {
   "cell_type": "markdown",
   "metadata": {},
   "source": [
    "É possível verificar que o crescimento dos casos confirmados é exponencial, estando perto dos 2.7 milhões, porém e felizmente, o número de fatalidades revela um comportamento bastante mais plano. O gráfico parece ter pouca suavidade no início da propagação, o que deverá estar relacionado com o facto de ter tido apenas um foco inicial, sendo ele a China e que a avaliação de doentes infetados tenha sido mais drástica a partir de um certo ponto."
   ]
  },
  {
   "cell_type": "markdown",
   "metadata": {},
   "source": [
    "Após esta análise inicial é possível verificar que a epidemia comporta-se de maneira diferente em muitos países. Obviamente que os números nunca poderiam ser iguais, visto que ela não começou ao mesmo tempo em todos os países, mas também não são iguais devido a um grande número de fatores, entre eles, está a densidade populacional, a idade da população, os níveis sanitários, as medidas de contenção implementadas, testes realizados e até o encobrimento de dados. Como exemplo podemos analisar os seguinte gráficos."
   ]
  },
  {
   "cell_type": "code",
   "execution_count": null,
   "metadata": {},
   "outputs": [],
   "source": [
    "china_data = train_dataset[train_dataset['Country_Region'] == 'China']\n",
    "total_confirmed_china = china_data.groupby(['Date']).agg({'ConfirmedCases':['sum']})\n",
    "total_fatalities_china = china_data.groupby(['Date']).agg({'Fatalities':['sum']})\n",
    "\n",
    "\n",
    "nigeria_data = train_dataset[train_dataset['Country_Region'] == 'Nigeria']\n",
    "total_confirmed_nigeria = nigeria_data.groupby(['Date']).agg({'ConfirmedCases':['sum']})\n",
    "total_fatalities_nigeria= nigeria_data.groupby(['Date']).agg({'Fatalities':['sum']})\n",
    "\n",
    "\n",
    "fig, (ax1, ax2) = plt.subplots(1, 2, figsize=(18,5))\n",
    "ax1.set_title(\"China analysis\")\n",
    "ax2.set_title(\"Nigeria analysis\")\n",
    "total_confirmed_china.join(total_fatalities_china).plot(ax=ax1)\n",
    "total_confirmed_nigeria.join(total_fatalities_nigeria).plot(ax=ax2)\n"
   ]
  },
  {
   "cell_type": "markdown",
   "metadata": {},
   "source": [
    "Nos dois plots anteriores podemos ver dois casos que se revelam anómalos.\n",
    "Em primeiro lugar, podemos olhar para a Nigeria que é um dos países com maior população do mundo e, apesar de o vírus já ter chegado a este país, ainda foram registados muitos poucos casos. Creemos que isto terá a ver com a infelicidade das inúmeras dificuldades sociais e económicas deste país o que torna complicado o acto de diagnosticar/testar e até mesmo registar os casos relacionados com o vírus.\n",
    "\n",
    "Em segundo lugar, nada mais do que a China que apesar de ter sido o epicentro de tudo e de não estar preparada apenas reporta até à data um máximo de 4512 mortes, como podemos verificar pela tabela seguinte, sendo que o número de casos confirmados ficou bastante estagnado. Com isto, não queremos dizer que a China está a mentir nos seus números, mas é de facto um caso que revela um comportamento diferente do vírus, talvez devido às duras medidas implementadas na província de Wuhan, porém elas foram implementadas um pouco tarde."
   ]
  },
  {
   "cell_type": "code",
   "execution_count": null,
   "metadata": {},
   "outputs": [],
   "source": [
    "china_data.describe()"
   ]
  },
  {
   "cell_type": "markdown",
   "metadata": {},
   "source": [
    "Posto isto, não faria muito sentido estar a prever a evolução desta epidemia globalmente, por isso vamo-nos focar num país que tem sido elogiado pelo combate ao COVID-19 e cujas informações apresentadas parecem ser credíveis e que é Portugal. Por sorte, encontramos um dataset mais detalhado sobre Portugal e com informações fornecidas pela DGS e que também contém as informações fornecidas pelo anterior."
   ]
  },
  {
   "cell_type": "code",
   "execution_count": null,
   "metadata": {},
   "outputs": [],
   "source": [
    "train_dataset = pd.read_csv(\"https://raw.githubusercontent.com/jgrocha/covid-pt/master/situacao_epidemiologica.csv\")\n",
    "train_dataset"
   ]
  },
  {
   "cell_type": "markdown",
   "metadata": {},
   "source": [
    "O dataset não vem ordenado por dia por isso é necessário fazer essa ordenação, para além disso para já vamos converter os NaN para 0."
   ]
  },
  {
   "cell_type": "code",
   "execution_count": null,
   "metadata": {},
   "outputs": [],
   "source": [
    "train_dataset = train_dataset.sort_values(by=['id'])\n",
    "train_dataset = train_dataset.fillna(0)"
   ]
  },
  {
   "cell_type": "markdown",
   "metadata": {},
   "source": [
    "Este dataset tem muitos detalhes sobre os números do covid-19 em Portugal, chegando a ter o número de casos confirmados e obitos dividido por idades e sexo. De seguida mostra-mos apenas, como exemplo, estas divisões para os casos confirmados"
   ]
  },
  {
   "cell_type": "code",
   "execution_count": null,
   "metadata": {},
   "outputs": [],
   "source": [
    "train_dataset[train_dataset.columns[10:19]].head()"
   ]
  },
  {
   "cell_type": "code",
   "execution_count": null,
   "metadata": {},
   "outputs": [],
   "source": [
    "train_dataset[train_dataset.columns[19:28]].head()"
   ]
  },
  {
   "cell_type": "markdown",
   "metadata": {},
   "source": [
    "É importante logo à partida reduzir o número de features relevantes. Primeiro é fácil de constatar que o número de casos confirmados terá impacto direto, mais à frente, no número de mortes, isto porque este número é um subconjunto dos confirmados. Com isto, vamos agregar os dados de casos confirmados e de obitos por faixas etárias: Jovens (0-29), Idade Média (30-59) e Terceira Idade (60-sup), não fazendo qualquer distinção entre géneros. Pretendemos, assim, isolar a faixa determinante para o número de fatalidades no pais."
   ]
  },
  {
   "cell_type": "code",
   "execution_count": null,
   "metadata": {},
   "outputs": [],
   "source": [
    "confirmados_jovens = train_dataset['confirmados_masculino_0_9'] + train_dataset['confirmados_masculino_10_19'] + train_dataset['confirmados_masculino_20_29'] \n",
    "+ train_dataset['confirmados_feminino_0_9'] + train_dataset['confirmados_feminino_10_19'] + train_dataset['confirmados_feminino_20_29'] \n",
    "\n",
    "fatalidades_jovens = train_dataset['obitos_masculino_0_9'] + train_dataset['obitos_masculino_10_19'] + train_dataset['obitos_masculino_20_29'] \n",
    "+ train_dataset['obitos_feminino_0_9'] + train_dataset['obitos_feminino_10_19'] + train_dataset['obitos_feminino_20_29'] \n",
    "\n",
    "confirmados_meia_idade = train_dataset['confirmados_masculino_30_39'] + train_dataset['confirmados_masculino_40_49'] + train_dataset['confirmados_masculino_50_59'] \n",
    "+ train_dataset['confirmados_feminino_30_39'] + train_dataset['confirmados_feminino_40_49'] + train_dataset['confirmados_feminino_50_59'] \n",
    "\n",
    "fatalidades_meia_idade = train_dataset['obitos_masculino_30_39'] + train_dataset['obitos_masculino_40_49'] + train_dataset['obitos_masculino_50_59']\n",
    "+ train_dataset['obitos_feminino_30_39'] + train_dataset['obitos_feminino_40_49'] + train_dataset['obitos_feminino_50_59'] \n",
    "\n",
    "confirmados_terceira_idade = train_dataset['confirmados_masculino_60_69'] + train_dataset['confirmados_masculino_70_79'] + train_dataset['confirmados_masculino_80_sup'] \n",
    "+ train_dataset['confirmados_feminino_60_69'] + train_dataset['confirmados_feminino_70_79'] + train_dataset['confirmados_feminino_80_sup'] \n",
    "\n",
    "fatalidades_terceira_idade = train_dataset['obitos_masculino_60_69'] + train_dataset['obitos_masculino_70_79'] + train_dataset['obitos_masculino_80_sup'] \n",
    "+ train_dataset['obitos_feminino_60_69'] + train_dataset['obitos_feminino_70_79'] + train_dataset['obitos_feminino_80_sup'] \n",
    "\n",
    "pd.concat([confirmados_jovens,fatalidades_jovens], axis=1, keys=['Confirmados', 'Fatalidades']).tail(20).plot(kind='bar', figsize=(20,5), title='Jovens')\n",
    "pd.concat([confirmados_meia_idade,fatalidades_meia_idade], axis=1,  keys=['Confirmados', 'Fatalidades']).tail(20).plot(kind='bar', figsize=(20,5), title='Meia Idade')\n",
    "pd.concat([confirmados_terceira_idade,fatalidades_terceira_idade], axis=1,  keys=['Confirmados', 'Fatalidades']).tail(20).plot(kind='bar', figsize=(20,5), title='Terceira Idade')"
   ]
  },
  {
   "cell_type": "markdown",
   "metadata": {},
   "source": [
    "Posto isto, conseguimos verificar que pelas informações do dataset apenas a população da terceira idade é que tem vindo a apresentar fatalidades, por isso vamos retirar do dataset as colunas de confirmados referentes às outras faixas etárias, porque não terão impacto na previsão dos casos de fatalidades. No caso dos óbitos iremos retirar as colunas todas, pois elas são apenas parte da soma que já temos e que queremos prever, sendo que apenas serviram para chegar à conclusão anterior. Iremos então manter os confirmados_terceira_idade no dataset."
   ]
  },
  {
   "cell_type": "markdown",
   "metadata": {},
   "source": [
    "Iremos aproveitar, também, para retirar já duas colunas desnecessárias. Primeiro o 'url' que apenas contém a fonte dos dados (relatório DGS) e depois a data do relatório, isto porque iremos referirmo-nos aos casos apenas como uma sequencia a partir do dia 1 (início dos dados) e até ao dia do último dado.\n",
    "\n",
    "O dataset também inclui o total de recuperados, mas eles irão ser retirados, porque não serão o nosso foco neste trabalho. A coluna nao_confirmados irá ser retirada, pois não apresenta informação útil, assumindo que estes casos são os que foram testados e acusaram negativo (é esta a nossa interpretação). Os casos 'importados' também, claramente, não revelam qualquer importância para a previção e serão removidos"
   ]
  },
  {
   "cell_type": "code",
   "execution_count": null,
   "metadata": {},
   "outputs": [],
   "source": [
    "columns1 = [x for x in range(10, 28)]\n",
    "columns2 = [x for x in range(37, 55)]\n",
    "train_dataset = train_dataset.drop(train_dataset.columns[columns1 + columns2], axis=1)\n",
    "train_dataset = train_dataset.drop(['url', 'nao_confirmados', 'recuperados', 'data_relatorio', 'importados'], axis=1)\n",
    "train_dataset.insert(2,'confirmados_terceira_idade',confirmados_terceira_idade)"
   ]
  },
  {
   "cell_type": "code",
   "execution_count": null,
   "metadata": {},
   "outputs": [],
   "source": [
    "train_dataset.head()"
   ]
  },
  {
   "cell_type": "markdown",
   "metadata": {},
   "source": [
    "De seguida vamos analisar as colunas dos sintomas. "
   ]
  },
  {
   "cell_type": "code",
   "execution_count": null,
   "metadata": {},
   "outputs": [],
   "source": [
    "sintomas = []\n",
    "sintomas.append(train_dataset['sintoma_febre'].sum())\n",
    "sintomas.append(train_dataset['sintoma_tosse'].sum())\n",
    "sintomas.append(train_dataset['sintoma_respiratoria'].sum())\n",
    "sintomas.append(train_dataset['sintoma_dores'].sum())\n",
    "sintomas.append(train_dataset['sintoma_cefaleia'].sum())\n",
    "sintomas.append(train_dataset['sintoma_fraqueza'].sum())\n",
    "plt.bar(['febre', 'tosse', 'dif_respiratoria', 'dores', 'fraqueza', 'cefaleia'], sintomas)"
   ]
  },
  {
   "cell_type": "markdown",
   "metadata": {},
   "source": [
    "Claramente o maior sintoma é a tosse, porém os restantes também são bastante comuns, sendo o menos comum a dificuldade respiratória que, na nossa opinião, terá a ver com o facto de estes sintomas serem os sintomas apresentados numa fase inicial da doença e quando é feito o diagnóstico, sendo que a dificuldade respiratória será algo mais característico de fases mais avançadas da doença. \n",
    "\n",
    "\n",
    "//-----Ver Melhor-----\\\\\n",
    "\n",
    "Para a análise que vamos fazer os sintomas seriam interessantes se os conseguissemos relacionar diretamente com o número de obitos, para ver se pessoas que inicialmente apresentam determinados sintomas morrem/sobrevivem mais, mas isto com os dados presentes é algo praticamente impossível, porque, em primeiro lugar, os sintomas apresentados no dia X não tem impacto nos obitos do dia X, logo não existe correlação digna a ser tirada, a não ser que essa informação fosse fornecida, ou seja, número de obitos por sintoma. Em segundo lugar, para resolver o primeiro problema teriamos de tentar prever qual é que seria o periodo de sobrevivência genérico de alguém acabou por morrer de COVID-19, para depois relacionar os sintomas do dia X com os obitos do dia X+(periodo de sobrevivência) e como este tempo depende de inúmeros fatores não é algo que vamos conseguir fazer. Posto isto, os dados teriam de ter um mapeamente muito mais detalhado, relacionando obito com sintoma inicial, o que algo que não possuímos de momento.\n",
    "\n",
    "//-----           -----\\\\\n",
    "\n",
    "Vamos proceder então à sua remoção."
   ]
  },
  {
   "cell_type": "code",
   "execution_count": null,
   "metadata": {},
   "outputs": [],
   "source": [
    "columns = [x for x in range(9, 15)]\n",
    "train_dataset = train_dataset.drop(train_dataset.columns[columns], axis=1)"
   ]
  },
  {
   "cell_type": "code",
   "execution_count": null,
   "metadata": {},
   "outputs": [],
   "source": [
    "train_dataset.head()"
   ]
  },
  {
   "cell_type": "markdown",
   "metadata": {},
   "source": [
    "Embora, como discutimos anteriormente, seja difícil com os dados que temos estimar, em média, quanto tempo uma pessoa que faleceu permaneceu viva desde o momento em que foi diagnosticada e mesmo conseguindo o intervalo seria grande, o mesmo não se aplica ao periodo de incubação que está definido entre 1 a 14 dias. Embora a comunidade científica não tenha certezas quanto a este tempo, podendo haver flutuações no máximo de tempo que pode demorar a demonstrar sintomas, de momento é uma das poucas informações consencuais que existem sobre o vírus. Posto isto, vamos tentar analisar o restante dataset de acordo com este dado."
   ]
  },
  {
   "cell_type": "markdown",
   "metadata": {},
   "source": [
    "Fora colunas básicas e já discutidas como 'confirmados', 'obitos' e 'confirmados_terceira_idade' ainda falta discutir sobre algumas colunas. Primeiro podemos abordar as colunas 'suspeitos', 'aguarda_resultado' e 'em_vigilancia', sendo que elas caem todas na mesma categoria que é a de serem um subconjunto dos casos confirmados. Embora muitos indivíduos destas categorias não estejam infetados, alguns deles podem, num futuro próximo, vir a fazer parte do grupo dos confirmados, por isso são colunas a ter em consideração. Em segundo lugar temos as colunas 'internados' e 'internados_uci' estando estas relacionadas com o número de obitos.\n",
    "\n",
    "Para que isto tudo faça sentido temos de falar sobre o conceito de lags. Uma das dificuldades em prever os números desta pandemia é que observações registadas no dia X só terão impacto visível no dia X+N, podendo ser o N o periodo de incubação do vírus, ou o tempo que demora alguém contagiado a falecer. Por isso, temos de arranjar maneira de manter os valores antigos para os poder relacionar com os mais novos em relação aos anteriores. Para este efeito iremos utilizar os lags que são uma maneira de manter o valor anterior de uma coluna, introduzindo-o numa nova coluna, fazendo, basicamente, um 'shift' nos dados. \n",
    "\n",
    "Tendo o conceito de lag claro, vamos proceder a utilizar este cálculo para certas colunas. Vejamos então caso a caso."
   ]
  },
  {
   "cell_type": "markdown",
   "metadata": {},
   "source": [
    "Aguarda resultados. A receção de um resultado de um teste ao COVID-19 pode resultar num caso confirmado, sendo que o tempo desta receção poderá variar, consoante o congestionamento do serviço de análises. Iremos tomar pelo princípio de que não deverá demorar mais do que 2 dias, portanto esta coluna irá ser transformada em duas. A primeira tendo os valores da coluna em questão, mas com o 'shifts' de um dia e a segunda com um 'shift' de dois dias."
   ]
  }
 ],
 "metadata": {
  "kernelspec": {
   "display_name": "Python 3",
   "language": "python",
   "name": "python3"
  },
  "language_info": {
   "codemirror_mode": {
    "name": "ipython",
    "version": 3
   },
   "file_extension": ".py",
   "mimetype": "text/x-python",
   "name": "python",
   "nbconvert_exporter": "python",
   "pygments_lexer": "ipython3",
   "version": "3.7.6"
  }
 },
 "nbformat": 4,
 "nbformat_minor": 4
}
